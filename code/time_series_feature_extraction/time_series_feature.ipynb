{
 "cells": [
  {
   "cell_type": "code",
   "execution_count": 1,
   "metadata": {},
   "outputs": [],
   "source": [
    "import numpy as np\n",
    "import pyedflib"
   ]
  },
  {
   "cell_type": "code",
   "execution_count": 2,
   "metadata": {},
   "outputs": [],
   "source": [
    "def LoadBDF(bdf_file, name = \"EXG2\", start = None, end = None):\n",
    "    with pyedflib.EdfReader(bdf_file) as f:\n",
    "        status_index = f.getSignalLabels().index('Status')\n",
    "        sample_frequency = f.samplefrequency(status_index)\n",
    "        status_size = f.samples_in_file(status_index)\n",
    "        status = np.zeros((status_size, ), dtype = 'float64')\n",
    "        f.readsignal(status_index, 0, status_size, status)\n",
    "        status = status.round().astype('int')\n",
    "        nz_status = status.nonzero()[0]\n",
    "\n",
    "        video_start = nz_status[0]\n",
    "        video_end = nz_status[-1]\n",
    "\n",
    "        index = f.getSignalLabels().index(name)\n",
    "        sample_frequency = f.samplefrequency(index)\n",
    "\n",
    "        video_start_seconds = video_start / sample_frequency\n",
    "\n",
    "        if start is not None:\n",
    "            start += video_start_seconds\n",
    "            start *= sample_frequency\n",
    "            if start < video_start:\n",
    "                start = video_start\n",
    "            start = int(start)\n",
    "        else:\n",
    "            start = video_start\n",
    "        \n",
    "        if end is not None:\n",
    "            end += video_start_seconds\n",
    "            end *= sample_frequency\n",
    "            if end > video_end:\n",
    "                end = video_end\n",
    "            end = int(end)\n",
    "        else:\n",
    "            end = video_end\n",
    "        \n",
    "        PhysicalMax = f.getPhysicalMaximum(index)\n",
    "        PhysicalMin = f.getPhysicalMinimum(index)\n",
    "        DigitalMax = f.getDigitalMaximum(index)\n",
    "        DigitalMin = f.getDigitalMinimum(index)\n",
    "\n",
    "        scale_factor = (PhysicalMax - PhysicalMin) / (DigitalMax - DigitalMin)\n",
    "        dc = PhysicalMax - scale_factor * DigitalMax\n",
    "\n",
    "        container = np.zeros((end - start, ), dtype = 'float64')\n",
    "        f.readsignal(index, start, end - start, container)\n",
    "        container = container * scale_factor + dc\n",
    "\n",
    "        return container, sample_frequency"
   ]
  },
  {
   "cell_type": "code",
   "execution_count": 9,
   "metadata": {},
   "outputs": [],
   "source": [
    "container, sample_frequency = LoadBDF(\"../dataset/hci/1/Part_1_N_Trial1_emotion.bdf\",name = \"Fp1\")"
   ]
  },
  {
   "cell_type": "code",
   "execution_count": 10,
   "metadata": {},
   "outputs": [
    {
     "data": {
      "text/plain": [
       "(5164,)"
      ]
     },
     "execution_count": 10,
     "metadata": {},
     "output_type": "execute_result"
    }
   ],
   "source": [
    "container.shape"
   ]
  },
  {
   "cell_type": "markdown",
   "metadata": {},
   "source": [
    "## GSR 皮肤电信号"
   ]
  },
  {
   "cell_type": "code",
   "execution_count": 11,
   "metadata": {},
   "outputs": [],
   "source": [
    "container, sample_frequency = LoadBDF(\"../dataset/hci/1/Part_1_N_Trial1_emotion.bdf\",name = \"GSR1\")"
   ]
  },
  {
   "cell_type": "code",
   "execution_count": 12,
   "metadata": {},
   "outputs": [
    {
     "data": {
      "text/plain": [
       "(5164,)"
      ]
     },
     "execution_count": 12,
     "metadata": {},
     "output_type": "execute_result"
    }
   ],
   "source": [
    "container.shape"
   ]
  },
  {
   "cell_type": "code",
   "execution_count": null,
   "metadata": {},
   "outputs": [],
   "source": []
  },
  {
   "cell_type": "code",
   "execution_count": 17,
   "metadata": {},
   "outputs": [
    {
     "data": {
      "text/plain": [
       "2900.1315394393882"
      ]
     },
     "execution_count": 17,
     "metadata": {},
     "output_type": "execute_result"
    }
   ],
   "source": [
    "np.average(container)"
   ]
  },
  {
   "cell_type": "code",
   "execution_count": 21,
   "metadata": {},
   "outputs": [
    {
     "data": {
      "text/plain": [
       "(0,)"
      ]
     },
     "execution_count": 21,
     "metadata": {},
     "output_type": "execute_result"
    }
   ],
   "source": [
    "container[container<0].shape"
   ]
  },
  {
   "cell_type": "code",
   "execution_count": null,
   "metadata": {},
   "outputs": [],
   "source": []
  },
  {
   "cell_type": "markdown",
   "metadata": {},
   "source": [
    "## Status"
   ]
  },
  {
   "cell_type": "markdown",
   "metadata": {},
   "source": [
    "### 可以通过状态Status通道看什么时候刺激开始"
   ]
  },
  {
   "cell_type": "code",
   "execution_count": 30,
   "metadata": {},
   "outputs": [],
   "source": [
    "container, sample_frequency = LoadBDF(\"../dataset/hci/1/Part_1_N_Trial1_emotion.bdf\",name = \"Status\")"
   ]
  },
  {
   "cell_type": "code",
   "execution_count": 31,
   "metadata": {},
   "outputs": [
    {
     "data": {
      "text/plain": [
       "array([500000.48192777, 500000.48192777, 500000.48192777, ...,\n",
       "       500000.48192777, 500000.48192777, 500000.48192777])"
      ]
     },
     "execution_count": 31,
     "metadata": {},
     "output_type": "execute_result"
    }
   ],
   "source": [
    "container"
   ]
  },
  {
   "cell_type": "code",
   "execution_count": 32,
   "metadata": {},
   "outputs": [],
   "source": [
    "import matplotlib.pyplot as plt"
   ]
  },
  {
   "cell_type": "code",
   "execution_count": 33,
   "metadata": {},
   "outputs": [
    {
     "data": {
      "text/plain": [
       "[<matplotlib.lines.Line2D at 0x7f73663857b8>]"
      ]
     },
     "execution_count": 33,
     "metadata": {},
     "output_type": "execute_result"
    },
    {
     "data": {
      "image/png": "[encoded data removed]",
      "image/svg+xml": [
       "<?xml version=\"1.0\" encoding=\"utf-8\" standalone=\"no\"?>\n",
       "<!DOCTYPE svg PUBLIC \"-//W3C//DTD SVG 1.1//EN\"\n",
       "  \"http://www.w3.org/Graphics/SVG/1.1/DTD/svg11.dtd\">\n",
       "<!-- Created with matplotlib (https://matplotlib.org/) -->\n",
       "<svg height=\"259.116562pt\" version=\"1.1\" viewBox=\"0 0 380.482813 259.116562\" width=\"380.482813pt\" xmlns=\"http://www.w3.org/2000/svg\" xmlns:xlink=\"http://www.w3.org/1999/xlink\">\n",
       " <metadata>\n",
       "  <rdf:RDF xmlns:cc=\"http://creativecommons.org/ns#\" xmlns:dc=\"http://purl.org/dc/elements/1.1/\" xmlns:rdf=\"http://www.w3.org/1999/02/22-rdf-syntax-ns#\">\n",
       "   <cc:Work>\n",
       "    <dc:type rdf:resource=\"http://purl.org/dc/dcmitype/StillImage\"/>\n",
       "    <dc:date>2021-04-10T13:13:08.711100</dc:date>\n",
       "    <dc:format>image/svg+xml</dc:format>\n",
       "    <dc:creator>\n",
       "     <cc:Agent>\n",
       "      <dc:title>Matplotlib v3.3.1, https://matplotlib.org/</dc:title>\n",
       "     </cc:Agent>\n",
       "    </dc:creator>\n",
       "   </cc:Work>\n",
       "  </rdf:RDF>\n",
       " </metadata>\n",
       " <defs>\n",
       "  <style type=\"text/css\">*{stroke-linecap:butt;stroke-linejoin:round;}</style>\n",
       " </defs>\n",
       " <g id=\"figure_1\">\n",
       "  <g id=\"patch_1\">\n",
       "   <path d=\"M -0 259.116562 \n",
       "L 380.482813 259.116562 \n",
       "L 380.482813 0 \n",
       "L -0 0 \n",
       "z\n",
       "\" style=\"fill:none;\"/>\n",
       "  </g>\n",
       "  <g id=\"axes_1\">\n",
       "   <g id=\"patch_2\">\n",
       "    <path d=\"M 38.482813 235.238437 \n",
       "L 373.282813 235.238437 \n",
       "L 373.282813 17.798437 \n",
       "L 38.482813 17.798437 \n",
       "z\n",
       "\" style=\"fill:#ffffff;\"/>\n",
       "   </g>\n",
       "   <g id=\"matplotlib.axis_1\">\n",
       "    <g id=\"xtick_1\">\n",
       "     <g id=\"line2d_1\">\n",
       "      <defs>\n",
       "       <path d=\"M 0 0 \n",
       "L 0 3.5 \n",
       "\" id=\"mb90ec70604\" style=\"stroke:#000000;stroke-width:0.8;\"/>\n",
       "      </defs>\n",
       "      <g>\n",
       "       <use style=\"stroke:#000000;stroke-width:0.8;\" x=\"53.700994\" xlink:href=\"#mb90ec70604\" y=\"235.238437\"/>\n",
       "      </g>\n",
       "     </g>\n",
       "     <g id=\"text_1\">\n",
       "      <!-- 0 -->\n",
       "      <g transform=\"translate(50.519744 249.836875)scale(0.1 -0.1)\">\n",
       "       <defs>\n",
       "        <path d=\"M 31.78125 66.40625 \n",
       "Q 24.171875 66.40625 20.328125 58.90625 \n",
       "Q 16.5 51.421875 16.5 36.375 \n",
       "Q 16.5 21.390625 20.328125 13.890625 \n",
       "Q 24.171875 6.390625 31.78125 6.390625 \n",
       "Q 39.453125 6.390625 43.28125 13.890625 \n",
       "Q 47.125 21.390625 47.125 36.375 \n",
       "Q 47.125 51.421875 43.28125 58.90625 \n",
       "Q 39.453125 66.40625 31.78125 66.40625 \n",
       "z\n",
       "M 31.78125 74.21875 \n",
       "Q 44.046875 74.21875 50.515625 64.515625 \n",
       "Q 56.984375 54.828125 56.984375 36.375 \n",
       "Q 56.984375 17.96875 50.515625 8.265625 \n",
       "Q 44.046875 -1.421875 31.78125 -1.421875 \n",
       "Q 19.53125 -1.421875 13.0625 8.265625 \n",
       "Q 6.59375 17.96875 6.59375 36.375 \n",
       "Q 6.59375 54.828125 13.0625 64.515625 \n",
       "Q 19.53125 74.21875 31.78125 74.21875 \n",
       "z\n",
       "\" id=\"DejaVuSans-48\"/>\n",
       "       </defs>\n",
       "       <use xlink:href=\"#DejaVuSans-48\"/>\n",
       "      </g>\n",
       "     </g>\n",
       "    </g>\n",
       "    <g id=\"xtick_2\">\n",
       "     <g id=\"line2d_2\">\n",
       "      <g>\n",
       "       <use style=\"stroke:#000000;stroke-width:0.8;\" x=\"112.651921\" xlink:href=\"#mb90ec70604\" y=\"235.238437\"/>\n",
       "      </g>\n",
       "     </g>\n",
       "     <g id=\"text_2\">\n",
       "      <!-- 1000 -->\n",
       "      <g transform=\"translate(99.926921 249.836875)scale(0.1 -0.1)\">\n",
       "       <defs>\n",
       "        <path d=\"M 12.40625 8.296875 \n",
       "L 28.515625 8.296875 \n",
       "L 28.515625 63.921875 \n",
       "L 10.984375 60.40625 \n",
       "L 10.984375 69.390625 \n",
       "L 28.421875 72.90625 \n",
       "L 38.28125 72.90625 \n",
       "L 38.28125 8.296875 \n",
       "L 54.390625 8.296875 \n",
       "L 54.390625 0 \n",
       "L 12.40625 0 \n",
       "z\n",
       "\" id=\"DejaVuSans-49\"/>\n",
       "       </defs>\n",
       "       <use xlink:href=\"#DejaVuSans-49\"/>\n",
       "       <use x=\"63.623047\" xlink:href=\"#DejaVuSans-48\"/>\n",
       "       <use x=\"127.246094\" xlink:href=\"#DejaVuSans-48\"/>\n",
       "       <use x=\"190.869141\" xlink:href=\"#DejaVuSans-48\"/>\n",
       "      </g>\n",
       "     </g>\n",
       "    </g>\n",
       "    <g id=\"xtick_3\">\n",
       "     <g id=\"line2d_3\">\n",
       "      <g>\n",
       "       <use style=\"stroke:#000000;stroke-width:0.8;\" x=\"171.602848\" xlink:href=\"#mb90ec70604\" y=\"235.238437\"/>\n",
       "      </g>\n",
       "     </g>\n",
       "     <g id=\"text_3\">\n",
       "      <!-- 2000 -->\n",
       "      <g transform=\"translate(158.877848 249.836875)scale(0.1 -0.1)\">\n",
       "       <defs>\n",
       "        <path d=\"M 19.1875 8.296875 \n",
       "L 53.609375 8.296875 \n",
       "L 53.609375 0 \n",
       "L 7.328125 0 \n",
       "L 7.328125 8.296875 \n",
       "Q 12.9375 14.109375 22.625 23.890625 \n",
       "Q 32.328125 33.6875 34.8125 36.53125 \n",
       "Q 39.546875 41.84375 41.421875 45.53125 \n",
       "Q 43.3125 49.21875 43.3125 52.78125 \n",
       "Q 43.3125 58.59375 39.234375 62.25 \n",
       "Q 35.15625 65.921875 28.609375 65.921875 \n",
       "Q 23.96875 65.921875 18.8125 64.3125 \n",
       "Q 13.671875 62.703125 7.8125 59.421875 \n",
       "L 7.8125 69.390625 \n",
       "Q 13.765625 71.78125 18.9375 73 \n",
       "Q 24.125 74.21875 28.421875 74.21875 \n",
       "Q 39.75 74.21875 46.484375 68.546875 \n",
       "Q 53.21875 62.890625 53.21875 53.421875 \n",
       "Q 53.21875 48.921875 51.53125 44.890625 \n",
       "Q 49.859375 40.875 45.40625 35.40625 \n",
       "Q 44.1875 33.984375 37.640625 27.21875 \n",
       "Q 31.109375 20.453125 19.1875 8.296875 \n",
       "z\n",
       "\" id=\"DejaVuSans-50\"/>\n",
       "       </defs>\n",
       "       <use xlink:href=\"#DejaVuSans-50\"/>\n",
       "       <use x=\"63.623047\" xlink:href=\"#DejaVuSans-48\"/>\n",
       "       <use x=\"127.246094\" xlink:href=\"#DejaVuSans-48\"/>\n",
       "       <use x=\"190.869141\" xlink:href=\"#DejaVuSans-48\"/>\n",
       "      </g>\n",
       "     </g>\n",
       "    </g>\n",
       "    <g id=\"xtick_4\">\n",
       "     <g id=\"line2d_4\">\n",
       "      <g>\n",
       "       <use style=\"stroke:#000000;stroke-width:0.8;\" x=\"230.553775\" xlink:href=\"#mb90ec70604\" y=\"235.238437\"/>\n",
       "      </g>\n",
       "     </g>\n",
       "     <g id=\"text_4\">\n",
       "      <!-- 3000 -->\n",
       "      <g transform=\"translate(217.828775 249.836875)scale(0.1 -0.1)\">\n",
       "       <defs>\n",
       "        <path d=\"M 40.578125 39.3125 \n",
       "Q 47.65625 37.796875 51.625 33 \n",
       "Q 55.609375 28.21875 55.609375 21.1875 \n",
       "Q 55.609375 10.40625 48.1875 4.484375 \n",
       "Q 40.765625 -1.421875 27.09375 -1.421875 \n",
       "Q 22.515625 -1.421875 17.65625 -0.515625 \n",
       "Q 12.796875 0.390625 7.625 2.203125 \n",
       "L 7.625 11.71875 \n",
       "Q 11.71875 9.328125 16.59375 8.109375 \n",
       "Q 21.484375 6.890625 26.8125 6.890625 \n",
       "Q 36.078125 6.890625 40.9375 10.546875 \n",
       "Q 45.796875 14.203125 45.796875 21.1875 \n",
       "Q 45.796875 27.640625 41.28125 31.265625 \n",
       "Q 36.765625 34.90625 28.71875 34.90625 \n",
       "L 20.21875 34.90625 \n",
       "L 20.21875 43.015625 \n",
       "L 29.109375 43.015625 \n",
       "Q 36.375 43.015625 40.234375 45.921875 \n",
       "Q 44.09375 48.828125 44.09375 54.296875 \n",
       "Q 44.09375 59.90625 40.109375 62.90625 \n",
       "Q 36.140625 65.921875 28.71875 65.921875 \n",
       "Q 24.65625 65.921875 20.015625 65.03125 \n",
       "Q 15.375 64.15625 9.8125 62.3125 \n",
       "L 9.8125 71.09375 \n",
       "Q 15.4375 72.65625 20.34375 73.4375 \n",
       "Q 25.25 74.21875 29.59375 74.21875 \n",
       "Q 40.828125 74.21875 47.359375 69.109375 \n",
       "Q 53.90625 64.015625 53.90625 55.328125 \n",
       "Q 53.90625 49.265625 50.4375 45.09375 \n",
       "Q 46.96875 40.921875 40.578125 39.3125 \n",
       "z\n",
       "\" id=\"DejaVuSans-51\"/>\n",
       "       </defs>\n",
       "       <use xlink:href=\"#DejaVuSans-51\"/>\n",
       "       <use x=\"63.623047\" xlink:href=\"#DejaVuSans-48\"/>\n",
       "       <use x=\"127.246094\" xlink:href=\"#DejaVuSans-48\"/>\n",
       "       <use x=\"190.869141\" xlink:href=\"#DejaVuSans-48\"/>\n",
       "      </g>\n",
       "     </g>\n",
       "    </g>\n",
       "    <g id=\"xtick_5\">\n",
       "     <g id=\"line2d_5\">\n",
       "      <g>\n",
       "       <use style=\"stroke:#000000;stroke-width:0.8;\" x=\"289.504703\" xlink:href=\"#mb90ec70604\" y=\"235.238437\"/>\n",
       "      </g>\n",
       "     </g>\n",
       "     <g id=\"text_5\">\n",
       "      <!-- 4000 -->\n",
       "      <g transform=\"translate(276.779703 249.836875)scale(0.1 -0.1)\">\n",
       "       <defs>\n",
       "        <path d=\"M 37.796875 64.3125 \n",
       "L 12.890625 25.390625 \n",
       "L 37.796875 25.390625 \n",
       "z\n",
       "M 35.203125 72.90625 \n",
       "L 47.609375 72.90625 \n",
       "L 47.609375 25.390625 \n",
       "L 58.015625 25.390625 \n",
       "L 58.015625 17.1875 \n",
       "L 47.609375 17.1875 \n",
       "L 47.609375 0 \n",
       "L 37.796875 0 \n",
       "L 37.796875 17.1875 \n",
       "L 4.890625 17.1875 \n",
       "L 4.890625 26.703125 \n",
       "z\n",
       "\" id=\"DejaVuSans-52\"/>\n",
       "       </defs>\n",
       "       <use xlink:href=\"#DejaVuSans-52\"/>\n",
       "       <use x=\"63.623047\" xlink:href=\"#DejaVuSans-48\"/>\n",
       "       <use x=\"127.246094\" xlink:href=\"#DejaVuSans-48\"/>\n",
       "       <use x=\"190.869141\" xlink:href=\"#DejaVuSans-48\"/>\n",
       "      </g>\n",
       "     </g>\n",
       "    </g>\n",
       "    <g id=\"xtick_6\">\n",
       "     <g id=\"line2d_6\">\n",
       "      <g>\n",
       "       <use style=\"stroke:#000000;stroke-width:0.8;\" x=\"348.45563\" xlink:href=\"#mb90ec70604\" y=\"235.238437\"/>\n",
       "      </g>\n",
       "     </g>\n",
       "     <g id=\"text_6\">\n",
       "      <!-- 5000 -->\n",
       "      <g transform=\"translate(335.73063 249.836875)scale(0.1 -0.1)\">\n",
       "       <defs>\n",
       "        <path d=\"M 10.796875 72.90625 \n",
       "L 49.515625 72.90625 \n",
       "L 49.515625 64.59375 \n",
       "L 19.828125 64.59375 \n",
       "L 19.828125 46.734375 \n",
       "Q 21.96875 47.46875 24.109375 47.828125 \n",
       "Q 26.265625 48.1875 28.421875 48.1875 \n",
       "Q 40.625 48.1875 47.75 41.5 \n",
       "Q 54.890625 34.8125 54.890625 23.390625 \n",
       "Q 54.890625 11.625 47.5625 5.09375 \n",
       "Q 40.234375 -1.421875 26.90625 -1.421875 \n",
       "Q 22.3125 -1.421875 17.546875 -0.640625 \n",
       "Q 12.796875 0.140625 7.71875 1.703125 \n",
       "L 7.71875 11.625 \n",
       "Q 12.109375 9.234375 16.796875 8.0625 \n",
       "Q 21.484375 6.890625 26.703125 6.890625 \n",
       "Q 35.15625 6.890625 40.078125 11.328125 \n",
       "Q 45.015625 15.765625 45.015625 23.390625 \n",
       "Q 45.015625 31 40.078125 35.4375 \n",
       "Q 35.15625 39.890625 26.703125 39.890625 \n",
       "Q 22.75 39.890625 18.8125 39.015625 \n",
       "Q 14.890625 38.140625 10.796875 36.28125 \n",
       "z\n",
       "\" id=\"DejaVuSans-53\"/>\n",
       "       </defs>\n",
       "       <use xlink:href=\"#DejaVuSans-53\"/>\n",
       "       <use x=\"63.623047\" xlink:href=\"#DejaVuSans-48\"/>\n",
       "       <use x=\"127.246094\" xlink:href=\"#DejaVuSans-48\"/>\n",
       "       <use x=\"190.869141\" xlink:href=\"#DejaVuSans-48\"/>\n",
       "      </g>\n",
       "     </g>\n",
       "    </g>\n",
       "   </g>\n",
       "   <g id=\"matplotlib.axis_2\">\n",
       "    <g id=\"ytick_1\">\n",
       "     <g id=\"line2d_7\">\n",
       "      <defs>\n",
       "       <path d=\"M 0 0 \n",
       "L -3.5 0 \n",
       "\" id=\"m34f46ba833\" style=\"stroke:#000000;stroke-width:0.8;\"/>\n",
       "      </defs>\n",
       "      <g>\n",
       "       <use style=\"stroke:#000000;stroke-width:0.8;\" x=\"38.482813\" xlink:href=\"#m34f46ba833\" y=\"210.780911\"/>\n",
       "      </g>\n",
       "     </g>\n",
       "     <g id=\"text_7\">\n",
       "      <!-- −0.4 -->\n",
       "      <g transform=\"translate(7.2 214.58013)scale(0.1 -0.1)\">\n",
       "       <defs>\n",
       "        <path d=\"M 10.59375 35.5 \n",
       "L 73.1875 35.5 \n",
       "L 73.1875 27.203125 \n",
       "L 10.59375 27.203125 \n",
       "z\n",
       "\" id=\"DejaVuSans-8722\"/>\n",
       "        <path d=\"M 10.6875 12.40625 \n",
       "L 21 12.40625 \n",
       "L 21 0 \n",
       "L 10.6875 0 \n",
       "z\n",
       "\" id=\"DejaVuSans-46\"/>\n",
       "       </defs>\n",
       "       <use xlink:href=\"#DejaVuSans-8722\"/>\n",
       "       <use x=\"83.789062\" xlink:href=\"#DejaVuSans-48\"/>\n",
       "       <use x=\"147.412109\" xlink:href=\"#DejaVuSans-46\"/>\n",
       "       <use x=\"179.199219\" xlink:href=\"#DejaVuSans-52\"/>\n",
       "      </g>\n",
       "     </g>\n",
       "    </g>\n",
       "    <g id=\"ytick_2\">\n",
       "     <g id=\"line2d_8\">\n",
       "      <g>\n",
       "       <use style=\"stroke:#000000;stroke-width:0.8;\" x=\"38.482813\" xlink:href=\"#m34f46ba833\" y=\"169.2585\"/>\n",
       "      </g>\n",
       "     </g>\n",
       "     <g id=\"text_8\">\n",
       "      <!-- −0.2 -->\n",
       "      <g transform=\"translate(7.2 173.057719)scale(0.1 -0.1)\">\n",
       "       <use xlink:href=\"#DejaVuSans-8722\"/>\n",
       "       <use x=\"83.789062\" xlink:href=\"#DejaVuSans-48\"/>\n",
       "       <use x=\"147.412109\" xlink:href=\"#DejaVuSans-46\"/>\n",
       "       <use x=\"179.199219\" xlink:href=\"#DejaVuSans-50\"/>\n",
       "      </g>\n",
       "     </g>\n",
       "    </g>\n",
       "    <g id=\"ytick_3\">\n",
       "     <g id=\"line2d_9\">\n",
       "      <g>\n",
       "       <use style=\"stroke:#000000;stroke-width:0.8;\" x=\"38.482813\" xlink:href=\"#m34f46ba833\" y=\"127.736089\"/>\n",
       "      </g>\n",
       "     </g>\n",
       "     <g id=\"text_9\">\n",
       "      <!-- 0.0 -->\n",
       "      <g transform=\"translate(15.579688 131.535308)scale(0.1 -0.1)\">\n",
       "       <use xlink:href=\"#DejaVuSans-48\"/>\n",
       "       <use x=\"63.623047\" xlink:href=\"#DejaVuSans-46\"/>\n",
       "       <use x=\"95.410156\" xlink:href=\"#DejaVuSans-48\"/>\n",
       "      </g>\n",
       "     </g>\n",
       "    </g>\n",
       "    <g id=\"ytick_4\">\n",
       "     <g id=\"line2d_10\">\n",
       "      <g>\n",
       "       <use style=\"stroke:#000000;stroke-width:0.8;\" x=\"38.482813\" xlink:href=\"#m34f46ba833\" y=\"86.213678\"/>\n",
       "      </g>\n",
       "     </g>\n",
       "     <g id=\"text_10\">\n",
       "      <!-- 0.2 -->\n",
       "      <g transform=\"translate(15.579688 90.012896)scale(0.1 -0.1)\">\n",
       "       <use xlink:href=\"#DejaVuSans-48\"/>\n",
       "       <use x=\"63.623047\" xlink:href=\"#DejaVuSans-46\"/>\n",
       "       <use x=\"95.410156\" xlink:href=\"#DejaVuSans-50\"/>\n",
       "      </g>\n",
       "     </g>\n",
       "    </g>\n",
       "    <g id=\"ytick_5\">\n",
       "     <g id=\"line2d_11\">\n",
       "      <g>\n",
       "       <use style=\"stroke:#000000;stroke-width:0.8;\" x=\"38.482813\" xlink:href=\"#m34f46ba833\" y=\"44.691267\"/>\n",
       "      </g>\n",
       "     </g>\n",
       "     <g id=\"text_11\">\n",
       "      <!-- 0.4 -->\n",
       "      <g transform=\"translate(15.579688 48.490485)scale(0.1 -0.1)\">\n",
       "       <use xlink:href=\"#DejaVuSans-48\"/>\n",
       "       <use x=\"63.623047\" xlink:href=\"#DejaVuSans-46\"/>\n",
       "       <use x=\"95.410156\" xlink:href=\"#DejaVuSans-52\"/>\n",
       "      </g>\n",
       "     </g>\n",
       "    </g>\n",
       "    <g id=\"text_12\">\n",
       "     <!-- +5e5 -->\n",
       "     <g transform=\"translate(38.482813 14.798437)scale(0.1 -0.1)\">\n",
       "      <defs>\n",
       "       <path d=\"M 46 62.703125 \n",
       "L 46 35.5 \n",
       "L 73.1875 35.5 \n",
       "L 73.1875 27.203125 \n",
       "L 46 27.203125 \n",
       "L 46 0 \n",
       "L 37.796875 0 \n",
       "L 37.796875 27.203125 \n",
       "L 10.59375 27.203125 \n",
       "L 10.59375 35.5 \n",
       "L 37.796875 35.5 \n",
       "L 37.796875 62.703125 \n",
       "z\n",
       "\" id=\"DejaVuSans-43\"/>\n",
       "       <path d=\"M 56.203125 29.59375 \n",
       "L 56.203125 25.203125 \n",
       "L 14.890625 25.203125 \n",
       "Q 15.484375 15.921875 20.484375 11.0625 \n",
       "Q 25.484375 6.203125 34.421875 6.203125 \n",
       "Q 39.59375 6.203125 44.453125 7.46875 \n",
       "Q 49.3125 8.734375 54.109375 11.28125 \n",
       "L 54.109375 2.78125 \n",
       "Q 49.265625 0.734375 44.1875 -0.34375 \n",
       "Q 39.109375 -1.421875 33.890625 -1.421875 \n",
       "Q 20.796875 -1.421875 13.15625 6.1875 \n",
       "Q 5.515625 13.8125 5.515625 26.8125 \n",
       "Q 5.515625 40.234375 12.765625 48.109375 \n",
       "Q 20.015625 56 32.328125 56 \n",
       "Q 43.359375 56 49.78125 48.890625 \n",
       "Q 56.203125 41.796875 56.203125 29.59375 \n",
       "z\n",
       "M 47.21875 32.234375 \n",
       "Q 47.125 39.59375 43.09375 43.984375 \n",
       "Q 39.0625 48.390625 32.421875 48.390625 \n",
       "Q 24.90625 48.390625 20.390625 44.140625 \n",
       "Q 15.875 39.890625 15.1875 32.171875 \n",
       "z\n",
       "\" id=\"DejaVuSans-101\"/>\n",
       "      </defs>\n",
       "      <use xlink:href=\"#DejaVuSans-43\"/>\n",
       "      <use x=\"83.789062\" xlink:href=\"#DejaVuSans-53\"/>\n",
       "      <use x=\"147.412109\" xlink:href=\"#DejaVuSans-101\"/>\n",
       "      <use x=\"208.935547\" xlink:href=\"#DejaVuSans-53\"/>\n",
       "     </g>\n",
       "    </g>\n",
       "   </g>\n",
       "   <g id=\"line2d_12\">\n",
       "    <path clip-path=\"url(#p3751ee8eec)\" d=\"M 53.700994 27.682074 \n",
       "L 56.58959 27.682074 \n",
       "L 56.707492 225.354801 \n",
       "L 355.176035 225.354801 \n",
       "L 355.293937 27.682074 \n",
       "L 358.064631 27.682074 \n",
       "L 358.064631 27.682074 \n",
       "\" style=\"fill:none;stroke:#1f77b4;stroke-linecap:square;stroke-width:1.5;\"/>\n",
       "   </g>\n",
       "   <g id=\"patch_3\">\n",
       "    <path d=\"M 38.482813 235.238438 \n",
       "L 38.482813 17.798437 \n",
       "\" style=\"fill:none;stroke:#000000;stroke-linecap:square;stroke-linejoin:miter;stroke-width:0.8;\"/>\n",
       "   </g>\n",
       "   <g id=\"patch_4\">\n",
       "    <path d=\"M 373.282813 235.238438 \n",
       "L 373.282813 17.798437 \n",
       "\" style=\"fill:none;stroke:#000000;stroke-linecap:square;stroke-linejoin:miter;stroke-width:0.8;\"/>\n",
       "   </g>\n",
       "   <g id=\"patch_5\">\n",
       "    <path d=\"M 38.482813 235.238437 \n",
       "L 373.282813 235.238437 \n",
       "\" style=\"fill:none;stroke:#000000;stroke-linecap:square;stroke-linejoin:miter;stroke-width:0.8;\"/>\n",
       "   </g>\n",
       "   <g id=\"patch_6\">\n",
       "    <path d=\"M 38.482813 17.798437 \n",
       "L 373.282813 17.798437 \n",
       "\" style=\"fill:none;stroke:#000000;stroke-linecap:square;stroke-linejoin:miter;stroke-width:0.8;\"/>\n",
       "   </g>\n",
       "  </g>\n",
       " </g>\n",
       " <defs>\n",
       "  <clipPath id=\"p3751ee8eec\">\n",
       "   <rect height=\"217.44\" width=\"334.8\" x=\"38.482813\" y=\"17.798437\"/>\n",
       "  </clipPath>\n",
       " </defs>\n",
       "</svg>\n"
      ],
      "text/plain": [
       "<Figure size 432x288 with 1 Axes>"
      ]
     },
     "metadata": {
      "needs_background": "light"
     },
     "output_type": "display_data"
    }
   ],
   "source": [
    "plt.plot(container)"
   ]
  },
  {
   "cell_type": "code",
   "execution_count": 34,
   "metadata": {},
   "outputs": [
    {
     "data": {
      "text/plain": [
       "(5164,)"
      ]
     },
     "execution_count": 34,
     "metadata": {},
     "output_type": "execute_result"
    }
   ],
   "source": [
    "container.shape"
   ]
  },
  {
   "cell_type": "code",
   "execution_count": null,
   "metadata": {},
   "outputs": [],
   "source": []
  },
  {
   "cell_type": "code",
   "execution_count": null,
   "metadata": {},
   "outputs": [],
   "source": []
  },
  {
   "cell_type": "markdown",
   "metadata": {},
   "source": [
    "## EEG"
   ]
  },
  {
   "cell_type": "code",
   "execution_count": 88,
   "metadata": {},
   "outputs": [],
   "source": [
    "chan_left_list = [\"Fp1\",\"AF3\",\"F3\",\"F7\",\"FC1\",\"FC5\",\"T7\",\"C3\",\"CP1\",\"CP5\",\"P7\",\"P3\",\"PO3\",\"O1\"]\n",
    "chan_right_list = [\"Fp2\",\"AF4\",\"F4\",\"F8\",\"FC2\",\"FC6\",\"T8\",\"C4\",\"CP2\",\"CP6\",\"P8\",\"P4\",\"PO4\",\"O2\"]\n",
    "chan_else_list = [\"Fz\",\"Cz\",\"Pz\",\"Oz\"]"
   ]
  },
  {
   "cell_type": "code",
   "execution_count": 77,
   "metadata": {},
   "outputs": [],
   "source": [
    "fp1_data, sample_frequency = LoadBDF(\"../dataset/hci/1/Part_1_N_Trial1_emotion.bdf\",name = \"Fp1\")"
   ]
  },
  {
   "cell_type": "code",
   "execution_count": 78,
   "metadata": {},
   "outputs": [
    {
     "data": {
      "text/plain": [
       "array([-400.14158953, -400.15623791, -400.07225385, ..., -399.82127822,\n",
       "       -399.77635651, -399.77830962])"
      ]
     },
     "execution_count": 78,
     "metadata": {},
     "output_type": "execute_result"
    }
   ],
   "source": [
    "fp1_data"
   ]
  },
  {
   "cell_type": "code",
   "execution_count": 79,
   "metadata": {},
   "outputs": [
    {
     "data": {
      "text/plain": [
       "256.0"
      ]
     },
     "execution_count": 79,
     "metadata": {},
     "output_type": "execute_result"
    }
   ],
   "source": [
    "sample_frequency"
   ]
  },
  {
   "cell_type": "code",
   "execution_count": 85,
   "metadata": {},
   "outputs": [],
   "source": [
    "# 信号处理\n",
    "from scipy import signal\n",
    "from scipy.fftpack import fft,ifft,fftshift\n",
    "from scipy.signal import welch\n",
    "\n",
    "# 获得指定频率功率谱密度/功率谱\n",
    "# option=='ps'是功率谱， psd是功率谱密度\n",
    "def bandpower(f, Pxx, fmin, fmax, option=\"ps\"):\n",
    "    ind_min = np.argmax(f > fmin) - 1\n",
    "    ind_max = np.argmax(f > fmax) - 1\n",
    "    if option=='ps':\n",
    "        return Pxx[ind_min: ind_max]\n",
    "    if option=='psd':\n",
    "        return Pxx[ind_min: ind_max].mean()\n",
    "\n",
    "## 获取指定频率范围的功率谱，并展开成向量    \n",
    "def get_freq_band_ps(low, high, data, fs):\n",
    "    f, Pxx = welch(data, fs=fs)\n",
    "    power_spectrum = bandpower(f, Pxx, low, high, option=\"psd\");\n",
    "    return power_spectrum"
   ]
  },
  {
   "cell_type": "code",
   "execution_count": 86,
   "metadata": {},
   "outputs": [
    {
     "data": {
      "text/plain": [
       "0.011023240424900806"
      ]
     },
     "execution_count": 86,
     "metadata": {},
     "output_type": "execute_result"
    }
   ],
   "source": [
    "get_freq_band_ps(0.5, 30, fp1_data, sample_frequency)"
   ]
  },
  {
   "cell_type": "code",
   "execution_count": 89,
   "metadata": {},
   "outputs": [],
   "source": [
    "eeg_feature = []\n",
    "for i in np.arange(14):\n",
    "    if i<4:\n",
    "        data1, fs1 = LoadBDF(\"../dataset/hci/1/Part_1_N_Trial1_emotion.bdf\",name=chan_else_list[i])\n",
    "        eeg_feature.append(get_freq_band_ps(4, 8, data1, fs1))  ## theta\n",
    "        eeg_feature.append(get_freq_band_ps(8, 10, data1, fs1)) ## slow alpha\n",
    "        eeg_feature.append(get_freq_band_ps(8, 12, data1, fs1)) ## alpha\n",
    "        eeg_feature.append(get_freq_band_ps(12, 30, data1, fs1)) ## beta\n",
    "        eeg_feature.append(get_freq_band_ps(30, 50, data1, fs1)) ## gamma\n",
    "    data2, fs2 = LoadBDF(\"../dataset/hci/1/Part_1_N_Trial1_emotion.bdf\",name=chan_left_list[i])\n",
    "    eeg_feature.append(get_freq_band_ps(4, 8, data2, fs2))  ## theta\n",
    "    eeg_feature.append(get_freq_band_ps(8, 10, data2, fs2)) ## slow alpha\n",
    "    eeg_feature.append(get_freq_band_ps(8, 12, data2, fs2)) ## alpha\n",
    "    eeg_feature.append(get_freq_band_ps(12, 30, data2, fs2)) ## beta\n",
    "    eeg_feature.append(get_freq_band_ps(30, 50, data2, fs2)) ## gamma\n",
    "    data3, fs3 = LoadBDF(\"../dataset/hci/1/Part_1_N_Trial1_emotion.bdf\",name=chan_right_list[i])\n",
    "    eeg_feature.append(get_freq_band_ps(4, 8, data3, fs3))  ## theta\n",
    "    eeg_feature.append(get_freq_band_ps(8, 10, data3, fs3)) ## slow alpha\n",
    "    eeg_feature.append(get_freq_band_ps(8, 12, data3, fs3)) ## alpha\n",
    "    eeg_feature.append(get_freq_band_ps(12, 30, data3, fs3)) ## beta\n",
    "    eeg_feature.append(get_freq_band_ps(30, 50, data3, fs3)) ## gamma\n",
    "    eeg_feature.append(get_freq_band_ps(4, 8, data3, fs3)-get_freq_band_ps(4, 8, data2, fs2))\n",
    "    eeg_feature.append(get_freq_band_ps(8, 12, data3, fs3)-get_freq_band_ps(8, 12, data2, fs2))\n",
    "    eeg_feature.append(get_freq_band_ps(12, 30, data3, fs3)-get_freq_band_ps(12, 30, data2, fs2))\n",
    "    eeg_feature.append(get_freq_band_ps(30, 50, data3, fs3)-get_freq_band_ps(30, 50, data2, fs2))"
   ]
  },
  {
   "cell_type": "code",
   "execution_count": 98,
   "metadata": {
    "collapsed": true,
    "jupyter": {
     "outputs_hidden": true
    }
   },
   "outputs": [
    {
     "data": {
      "text/plain": [
       "[0.002062440960289711,\n",
       " 0.0006379523101839985,\n",
       " 0.0006999654676620312,\n",
       " 0.00013100239999406575,\n",
       " 3.9968278857952145e-05,\n",
       " 0.012265100410623044,\n",
       " 0.0015334355861360797,\n",
       " 0.0014304826913718446,\n",
       " 0.00023417510904610587,\n",
       " 6.113459201999596e-05,\n",
       " 0.014486233389874622,\n",
       " 0.0021123675114255325,\n",
       " 0.0017321604006114986,\n",
       " 0.00024640549215566035,\n",
       " 8.417164658666476e-05,\n",
       " 0.002221132979251578,\n",
       " 0.00030167770923965396,\n",
       " 1.223038310955448e-05,\n",
       " 2.30370545666688e-05,\n",
       " 0.00023268760093207903,\n",
       " 0.00016854506930686058,\n",
       " 0.0002005198869228936,\n",
       " 4.0107199430076424e-05,\n",
       " 2.5208795634846994e-05,\n",
       " 0.004760413940957167,\n",
       " 0.0008479210463641629,\n",
       " 0.0008096822471650635,\n",
       " 0.00016413113677208086,\n",
       " 4.5075500494811276e-05,\n",
       " 0.006441212958461243,\n",
       " 0.0013538232702251373,\n",
       " 0.001244870411678753,\n",
       " 0.00022945305495190846,\n",
       " 8.504103996354844e-05,\n",
       " 0.0016807990175040756,\n",
       " 0.00043518816451368954,\n",
       " 6.53219181798276e-05,\n",
       " 3.996553946873716e-05,\n",
       " 0.003681346172806823,\n",
       " 0.001846890806197004,\n",
       " 0.0017132921610143298,\n",
       " 0.0005543835641827954,\n",
       " 0.00012966149547704136,\n",
       " 0.0020383657189318484,\n",
       " 0.00044497363965406624,\n",
       " 0.0004641708451895402,\n",
       " 0.00011652743606215896,\n",
       " 3.453388071123998e-05,\n",
       " 0.0026076650459611627,\n",
       " 0.0008576476151077161,\n",
       " 0.0008659041234282604,\n",
       " 0.00017889858108011288,\n",
       " 8.530208180289655e-05,\n",
       " 0.0005692993270293143,\n",
       " 0.0004017332782387202,\n",
       " 6.237114501795392e-05,\n",
       " 5.0768201091656563e-05,\n",
       " 0.0015773798384621104,\n",
       " 0.0009760904409067573,\n",
       " 0.0008648097039139549,\n",
       " 0.00025726033409406815,\n",
       " 6.843571205233809e-05,\n",
       " 0.0035981620509984834,\n",
       " 0.001068611614180141,\n",
       " 0.0008684247135031636,\n",
       " 0.0002741241608834823,\n",
       " 0.00010851282988044192,\n",
       " 0.004191878889023143,\n",
       " 0.0015036949431941273,\n",
       " 0.0015173316194258607,\n",
       " 0.00036441587441792634,\n",
       " 0.00017017706425987488,\n",
       " 0.0005937168380246594,\n",
       " 0.0006489069059226971,\n",
       " 9.029171353444403e-05,\n",
       " 6.166423437943296e-05,\n",
       " 0.0004375000030223303,\n",
       " 0.00019990113521896092,\n",
       " 0.0001994107936446282,\n",
       " 5.076561902910953e-05,\n",
       " 1.6752168267643063e-05,\n",
       " 0.0006835705315483056,\n",
       " 0.00037390350786299507,\n",
       " 0.0005171985042554505,\n",
       " 8.766378210683918e-05,\n",
       " 3.7209923279709036e-05,\n",
       " 0.0002460705285259753,\n",
       " 0.0003177877106108223,\n",
       " 3.689816307772964e-05,\n",
       " 2.0457755012065974e-05,\n",
       " 0.0008957905006022391,\n",
       " 0.00029457365408235795,\n",
       " 0.0002705110589968845,\n",
       " 0.0001039859100782842,\n",
       " 3.550845036234626e-05,\n",
       " 0.001503265864848054,\n",
       " 0.0008548574183675642,\n",
       " 0.0008702153738336001,\n",
       " 0.00018471366462633417,\n",
       " 0.00010797469507704013,\n",
       " 0.0006074753642458149,\n",
       " 0.0005997043148367156,\n",
       " 8.072775454804997e-05,\n",
       " 7.246624471469388e-05,\n",
       " 0.001179036246909321,\n",
       " 0.000679105186279443,\n",
       " 0.0005678588402698527,\n",
       " 0.0002466479606901346,\n",
       " 8.682826263905921e-05,\n",
       " 0.0016417783324015399,\n",
       " 0.0010406329639659445,\n",
       " 0.0010521207908771903,\n",
       " 0.000287925148584416,\n",
       " 0.00011170814810622346,\n",
       " 0.0004627420854922189,\n",
       " 0.0004842619506073376,\n",
       " 4.12771878942814e-05,\n",
       " 2.487988546716425e-05,\n",
       " 0.0003454302199073209,\n",
       " 0.0002690775677938938,\n",
       " 0.0004319598705794978,\n",
       " 7.80763703190617e-05,\n",
       " 2.1874448866346044e-05,\n",
       " 0.0008104450492450741,\n",
       " 0.0005607360131646164,\n",
       " 0.0006864838390698583,\n",
       " 0.00012696576225339958,\n",
       " 4.944011638972842e-05,\n",
       " 0.0004650148293377532,\n",
       " 0.0002545239684903605,\n",
       " 4.8889391934337875e-05,\n",
       " 2.756566752338238e-05,\n",
       " 0.00028608159947456465,\n",
       " 0.0001759176941969692,\n",
       " 0.00020124092075252326,\n",
       " 5.499841451037268e-05,\n",
       " 1.617189027017023e-05,\n",
       " 0.0005223996271121731,\n",
       " 0.00037504911369770784,\n",
       " 0.0004046625167473217,\n",
       " 9.42885579617673e-05,\n",
       " 3.361135844943271e-05,\n",
       " 0.0002363180276376084,\n",
       " 0.00020342159599479845,\n",
       " 3.929014345139462e-05,\n",
       " 1.7439468179262476e-05,\n",
       " 0.0008355236250905365,\n",
       " 0.00045339239396219544,\n",
       " 0.0005388376483611717,\n",
       " 0.00014037460264931443,\n",
       " 2.862475847061734e-05,\n",
       " 0.0010662861446605418,\n",
       " 0.0007146948197227767,\n",
       " 0.000742959234399344,\n",
       " 0.0001710863286594785,\n",
       " 5.17819681360245e-05,\n",
       " 0.00023076251957000532,\n",
       " 0.00020412158603817223,\n",
       " 3.071172601016407e-05,\n",
       " 2.315720966540716e-05,\n",
       " 0.002819928902006176,\n",
       " 0.0016354407023783661,\n",
       " 0.0014798555235247702,\n",
       " 0.00045180485902044266,\n",
       " 9.91967073413442e-05,\n",
       " 0.0021058288415933685,\n",
       " 0.0013842228963000924,\n",
       " 0.0012256259297802339,\n",
       " 0.00033677671444649584,\n",
       " 8.665454183941227e-05,\n",
       " -0.0007141000604128076,\n",
       " -0.0002542295937445363,\n",
       " -0.00011502814457394682,\n",
       " -1.2542165501931932e-05,\n",
       " 0.0008678413416002514,\n",
       " 0.0005194466635878086,\n",
       " 0.0005269302617636943,\n",
       " 0.00015843868836925976,\n",
       " 3.245828934120716e-05,\n",
       " 0.0009347457513523949,\n",
       " 0.0006686192087028467,\n",
       " 0.0006280636485974757,\n",
       " 0.00015882014441896103,\n",
       " 4.4108369294746386e-05,\n",
       " 6.690440975214347e-05,\n",
       " 0.00010113338683378147,\n",
       " 3.814560497012668e-07,\n",
       " 1.1650079953539224e-05,\n",
       " 0.0014218319977850806,\n",
       " 0.0008576349114381024,\n",
       " 0.0007692094747570843,\n",
       " 0.00023327880803151882,\n",
       " 0.00017269799524917214,\n",
       " 0.0014150431439536664,\n",
       " 0.0008613282897996425,\n",
       " 0.0007959356615358095,\n",
       " 0.00020621156186920587,\n",
       " 5.945037669556133e-05,\n",
       " -6.788853831414185e-06,\n",
       " 2.672618677872522e-05,\n",
       " -2.706724616231295e-05,\n",
       " -0.0001132476185536108,\n",
       " 0.0015690284677608152,\n",
       " 0.0009121765297212643,\n",
       " 0.0008006383031166292,\n",
       " 0.0002448206756066686,\n",
       " 6.972744937513485e-05,\n",
       " 0.0016461253759015055,\n",
       " 0.0009852661795529375,\n",
       " 0.0008598373219039527,\n",
       " 0.0002392741256627244,\n",
       " 7.451604105810768e-05,\n",
       " 7.709690814069027e-05,\n",
       " 5.919901878732349e-05,\n",
       " -5.546549943944215e-06,\n",
       " 4.7885916829728354e-06]"
      ]
     },
     "execution_count": 98,
     "metadata": {},
     "output_type": "execute_result"
    }
   ],
   "source": [
    "eeg_feature"
   ]
  },
  {
   "cell_type": "code",
   "execution_count": 97,
   "metadata": {},
   "outputs": [
    {
     "data": {
      "text/plain": [
       "216"
      ]
     },
     "execution_count": 97,
     "metadata": {},
     "output_type": "execute_result"
    }
   ],
   "source": [
    "len(eeg_feature)"
   ]
  },
  {
   "cell_type": "code",
   "execution_count": null,
   "metadata": {},
   "outputs": [],
   "source": []
  },
  {
   "cell_type": "code",
   "execution_count": 99,
   "metadata": {},
   "outputs": [],
   "source": [
    "def get_eeg_feature(eeg_path):\n",
    "    chan_left_list = [\"Fp1\",\"AF3\",\"F3\",\"F7\",\"FC1\",\"FC5\",\"T7\",\"C3\",\"CP1\",\"CP5\",\"P7\",\"P3\",\"PO3\",\"O1\"]\n",
    "    chan_right_list = [\"Fp2\",\"AF4\",\"F4\",\"F8\",\"FC2\",\"FC6\",\"T8\",\"C4\",\"CP2\",\"CP6\",\"P8\",\"P4\",\"PO4\",\"O2\"]\n",
    "    chan_else_list = [\"Fz\",\"Cz\",\"Pz\",\"Oz\"]\n",
    "    \n",
    "    eeg_feature = []\n",
    "    for i in np.arange(14):\n",
    "        if i<4:\n",
    "            data1, fs1 = LoadBDF(path,name=chan_else_list[i])\n",
    "            eeg_feature.append(get_freq_band_ps(4, 8, data1, fs1))  ## theta\n",
    "            eeg_feature.append(get_freq_band_ps(8, 10, data1, fs1)) ## slow alpha\n",
    "            eeg_feature.append(get_freq_band_ps(8, 12, data1, fs1)) ## alpha\n",
    "            eeg_feature.append(get_freq_band_ps(12, 30, data1, fs1)) ## beta\n",
    "            eeg_feature.append(get_freq_band_ps(30, 50, data1, fs1)) ## gamma\n",
    "        data2, fs2 = LoadBDF(path,name=chan_left_list[i])\n",
    "        eeg_feature.append(get_freq_band_ps(4, 8, data2, fs2))  ## theta\n",
    "        eeg_feature.append(get_freq_band_ps(8, 10, data2, fs2)) ## slow alpha\n",
    "        eeg_feature.append(get_freq_band_ps(8, 12, data2, fs2)) ## alpha\n",
    "        eeg_feature.append(get_freq_band_ps(12, 30, data2, fs2)) ## beta\n",
    "        eeg_feature.append(get_freq_band_ps(30, 50, data2, fs2)) ## gamma\n",
    "        data3, fs3 = LoadBDF(path,name=chan_right_list[i])\n",
    "        eeg_feature.append(get_freq_band_ps(4, 8, data3, fs3))  ## theta\n",
    "        eeg_feature.append(get_freq_band_ps(8, 10, data3, fs3)) ## slow alpha\n",
    "        eeg_feature.append(get_freq_band_ps(8, 12, data3, fs3)) ## alpha\n",
    "        eeg_feature.append(get_freq_band_ps(12, 30, data3, fs3)) ## beta\n",
    "        eeg_feature.append(get_freq_band_ps(30, 50, data3, fs3)) ## gamma\n",
    "        eeg_feature.append(get_freq_band_ps(4, 8, data3, fs3)-get_freq_band_ps(4, 8, data2, fs2))\n",
    "        eeg_feature.append(get_freq_band_ps(8, 12, data3, fs3)-get_freq_band_ps(8, 12, data2, fs2))\n",
    "        eeg_feature.append(get_freq_band_ps(12, 30, data3, fs3)-get_freq_band_ps(12, 30, data2, fs2))\n",
    "        eeg_feature.append(get_freq_band_ps(30, 50, data3, fs3)-get_freq_band_ps(30, 50, data2, fs2))\n",
    "    return eeg_feature"
   ]
  },
  {
   "cell_type": "markdown",
   "metadata": {},
   "source": [
    "## load_data"
   ]
  },
  {
   "cell_type": "code",
   "execution_count": 35,
   "metadata": {},
   "outputs": [],
   "source": [
    "import numpy as np"
   ]
  },
  {
   "cell_type": "code",
   "execution_count": 43,
   "metadata": {},
   "outputs": [],
   "source": [
    "for i in np.arange(2,41,2):\n",
    "    path = \"../dataset/hci/\"+str(i)+\"/Part_1_S_Trial\"+str(int(i/2))+\"_emotion.bdf\"\n",
    "    container, sample_frequency = LoadBDF(path,name = \"Fp1\")"
   ]
  },
  {
   "cell_type": "code",
   "execution_count": 45,
   "metadata": {},
   "outputs": [
    {
     "data": {
      "text/plain": [
       "22357"
      ]
     },
     "execution_count": 45,
     "metadata": {},
     "output_type": "execute_result"
    }
   ],
   "source": [
    "container.size"
   ]
  },
  {
   "cell_type": "code",
   "execution_count": 48,
   "metadata": {},
   "outputs": [
    {
     "data": {
      "text/plain": [
       "256.0"
      ]
     },
     "execution_count": 48,
     "metadata": {},
     "output_type": "execute_result"
    }
   ],
   "source": [
    "sample_frequency"
   ]
  },
  {
   "cell_type": "code",
   "execution_count": 49,
   "metadata": {},
   "outputs": [],
   "source": [
    "import pandas as pd"
   ]
  },
  {
   "cell_type": "code",
   "execution_count": 50,
   "metadata": {},
   "outputs": [],
   "source": [
    "label_data = pd.read_csv(\"../dataset/hci/1/P1-Rec1-Guide-Cut.tsv\", sep=\"\\t\")"
   ]
  },
  {
   "cell_type": "code",
   "execution_count": 51,
   "metadata": {},
   "outputs": [
    {
     "data": {
      "text/html": [
       "<div>\n",
       "<style scoped>\n",
       "    .dataframe tbody tr th:only-of-type {\n",
       "        vertical-align: middle;\n",
       "    }\n",
       "\n",
       "    .dataframe tbody tr th {\n",
       "        vertical-align: top;\n",
       "    }\n",
       "\n",
       "    .dataframe thead th {\n",
       "        text-align: right;\n",
       "    }\n",
       "</style>\n",
       "<table border=\"1\" class=\"dataframe\">\n",
       "  <thead>\n",
       "    <tr style=\"text-align: right;\">\n",
       "      <th></th>\n",
       "      <th>AudioSampleNumber</th>\n",
       "      <th>Action</th>\n",
       "      <th>Name</th>\n",
       "      <th>AudioSampleCut</th>\n",
       "      <th>VideoFrameCut</th>\n",
       "    </tr>\n",
       "  </thead>\n",
       "  <tbody>\n",
       "    <tr>\n",
       "      <th>0</th>\n",
       "      <td>224994</td>\n",
       "      <td>MovieStart</td>\n",
       "      <td>colorbars_Final.avi</td>\n",
       "      <td>224385.5</td>\n",
       "      <td>262.5</td>\n",
       "    </tr>\n",
       "    <tr>\n",
       "      <th>1</th>\n",
       "      <td>1183575</td>\n",
       "      <td>MovieEnd</td>\n",
       "      <td>colorbars_Final.avi</td>\n",
       "      <td>1264359.5</td>\n",
       "      <td>1583.5</td>\n",
       "    </tr>\n",
       "    <tr>\n",
       "      <th>2</th>\n",
       "      <td>1265126</td>\n",
       "      <td>MovieStart</td>\n",
       "      <td>69.avi</td>\n",
       "      <td>1264359.5</td>\n",
       "      <td>1583.5</td>\n",
       "    </tr>\n",
       "    <tr>\n",
       "      <th>3</th>\n",
       "      <td>2860816</td>\n",
       "      <td>LeftMouseClick</td>\n",
       "      <td>NaN</td>\n",
       "      <td>NaN</td>\n",
       "      <td>NaN</td>\n",
       "    </tr>\n",
       "    <tr>\n",
       "      <th>4</th>\n",
       "      <td>2933570</td>\n",
       "      <td>LeftMouseClick</td>\n",
       "      <td>NaN</td>\n",
       "      <td>NaN</td>\n",
       "      <td>NaN</td>\n",
       "    </tr>\n",
       "    <tr>\n",
       "      <th>...</th>\n",
       "      <td>...</td>\n",
       "      <td>...</td>\n",
       "      <td>...</td>\n",
       "      <td>...</td>\n",
       "      <td>...</td>\n",
       "    </tr>\n",
       "    <tr>\n",
       "      <th>379</th>\n",
       "      <td>133957406</td>\n",
       "      <td>KeyPress</td>\n",
       "      <td>D7</td>\n",
       "      <td>NaN</td>\n",
       "      <td>NaN</td>\n",
       "    </tr>\n",
       "    <tr>\n",
       "      <th>380</th>\n",
       "      <td>133958211</td>\n",
       "      <td>InstructionEnd</td>\n",
       "      <td>Dominance assessment</td>\n",
       "      <td>NaN</td>\n",
       "      <td>NaN</td>\n",
       "    </tr>\n",
       "    <tr>\n",
       "      <th>381</th>\n",
       "      <td>133970201</td>\n",
       "      <td>InstructionStart</td>\n",
       "      <td>Predictability assessment</td>\n",
       "      <td>NaN</td>\n",
       "      <td>NaN</td>\n",
       "    </tr>\n",
       "    <tr>\n",
       "      <th>382</th>\n",
       "      <td>134083747</td>\n",
       "      <td>KeyPress</td>\n",
       "      <td>D9</td>\n",
       "      <td>NaN</td>\n",
       "      <td>NaN</td>\n",
       "    </tr>\n",
       "    <tr>\n",
       "      <th>383</th>\n",
       "      <td>134083747</td>\n",
       "      <td>InstructionEnd</td>\n",
       "      <td>Predictability assessment</td>\n",
       "      <td>134952882.5</td>\n",
       "      <td>171398.5</td>\n",
       "    </tr>\n",
       "  </tbody>\n",
       "</table>\n",
       "<p>384 rows × 5 columns</p>\n",
       "</div>"
      ],
      "text/plain": [
       "     AudioSampleNumber            Action                       Name  \\\n",
       "0               224994        MovieStart        colorbars_Final.avi   \n",
       "1              1183575          MovieEnd        colorbars_Final.avi   \n",
       "2              1265126        MovieStart                     69.avi   \n",
       "3              2860816    LeftMouseClick                        NaN   \n",
       "4              2933570    LeftMouseClick                        NaN   \n",
       "..                 ...               ...                        ...   \n",
       "379          133957406          KeyPress                         D7   \n",
       "380          133958211    InstructionEnd       Dominance assessment   \n",
       "381          133970201  InstructionStart  Predictability assessment   \n",
       "382          134083747          KeyPress                         D9   \n",
       "383          134083747    InstructionEnd  Predictability assessment   \n",
       "\n",
       "     AudioSampleCut  VideoFrameCut  \n",
       "0          224385.5          262.5  \n",
       "1         1264359.5         1583.5  \n",
       "2         1264359.5         1583.5  \n",
       "3               NaN            NaN  \n",
       "4               NaN            NaN  \n",
       "..              ...            ...  \n",
       "379             NaN            NaN  \n",
       "380             NaN            NaN  \n",
       "381             NaN            NaN  \n",
       "382             NaN            NaN  \n",
       "383     134952882.5       171398.5  \n",
       "\n",
       "[384 rows x 5 columns]"
      ]
     },
     "execution_count": 51,
     "metadata": {},
     "output_type": "execute_result"
    }
   ],
   "source": [
    "label_data"
   ]
  },
  {
   "cell_type": "code",
   "execution_count": 56,
   "metadata": {},
   "outputs": [],
   "source": [
    "label_data2 = label_data[label_data['Action']==\"KeyPress\"].Name"
   ]
  },
  {
   "cell_type": "code",
   "execution_count": 65,
   "metadata": {},
   "outputs": [
    {
     "data": {
      "text/plain": [
       "array([['D3', 'D4', 'D3', 'D1', 'D5'],\n",
       "       ['D8', 'D6', 'D3', 'D1', 'D7'],\n",
       "       ['D2', 'D8', 'D9', 'D5', 'D5'],\n",
       "       ['D5', 'D7', 'D5', 'D3', 'D1'],\n",
       "       ['D4', 'D6', 'D3', 'D9', 'D2'],\n",
       "       ['D7', 'D8', 'D2', 'D2', 'D1'],\n",
       "       ['D5', 'D6', 'D8', 'D3', 'D3'],\n",
       "       ['D2', 'D4', 'D7', 'D4', 'D5'],\n",
       "       ['D9', 'D9', 'D2', 'D2', 'D6'],\n",
       "       ['D5', 'D3', 'D6', 'D6', 'D5'],\n",
       "       ['D8', 'D9', 'D4', 'D5', 'D5'],\n",
       "       ['D1', 'D7', 'D3', 'D7', 'D5'],\n",
       "       ['D7', 'D7', 'D2', 'D2', 'D7'],\n",
       "       ['D1', 'D6', 'D3', 'D1', 'D9'],\n",
       "       ['D2', 'D6', 'D5', 'D6', 'D7'],\n",
       "       ['D1', 'D6', 'D2', 'D1', 'D8'],\n",
       "       ['D4', 'D2', 'D5', 'D5', 'D6'],\n",
       "       ['D5', 'D7', 'D7', 'D3', 'D7'],\n",
       "       ['D4', 'D6', 'D6', 'D3', 'D6'],\n",
       "       ['D5', 'D8', 'D8', 'D7', 'D9']], dtype=object)"
      ]
     },
     "execution_count": 65,
     "metadata": {},
     "output_type": "execute_result"
    }
   ],
   "source": [
    "np.asarray(label_data2).reshape(-1,5)\n",
    "## 5个维度分别是：Emotion keyword、Arousal assessment、Valence assessment、Dominance assessment、Predictability assessment"
   ]
  },
  {
   "cell_type": "code",
   "execution_count": 67,
   "metadata": {},
   "outputs": [],
   "source": [
    "label_data3 = np.asarray(label_data2).reshape(-1,5)"
   ]
  },
  {
   "cell_type": "code",
   "execution_count": 69,
   "metadata": {},
   "outputs": [
    {
     "data": {
      "text/plain": [
       "20"
      ]
     },
     "execution_count": 69,
     "metadata": {},
     "output_type": "execute_result"
    }
   ],
   "source": [
    "len(label_data3)"
   ]
  },
  {
   "cell_type": "code",
   "execution_count": 71,
   "metadata": {},
   "outputs": [],
   "source": [
    "arousal_label_map = []\n",
    "for i in np.arange(len(label_data3)):\n",
    "    if(label_data3[i][0]=='D1' or label_data3[i][0]=='D3' or label_data3[i][0]=='D4'):\n",
    "        arousal_label_map.append(0) ## Calm\n",
    "    elif(label_data3[i][0]=='D2' or label_data3[i][0]=='D5'):\n",
    "        arousal_label_map.append(1) ## Medium arousal\n",
    "    elif(label_data3[i][0]=='D8' or label_data3[i][0]=='D7' or label_data3[i][0]=='D6' or label_data3[i][0]=='D9'):\n",
    "        arousal_label_map.append(2)  ## Excited/Activated"
   ]
  },
  {
   "cell_type": "code",
   "execution_count": 72,
   "metadata": {},
   "outputs": [
    {
     "data": {
      "text/plain": [
       "[0, 2, 1, 1, 0, 2, 1, 1, 2, 1, 2, 0, 2, 0, 1, 0, 0, 1, 0, 1]"
      ]
     },
     "execution_count": 72,
     "metadata": {},
     "output_type": "execute_result"
    }
   ],
   "source": [
    "arousal_label_map"
   ]
  },
  {
   "cell_type": "code",
   "execution_count": 121,
   "metadata": {},
   "outputs": [],
   "source": [
    "valence_label_map = []\n",
    "for i in np.arange(len(label_data3)):\n",
    "    if(label_data3[i][0]=='D7' or label_data3[i][0]=='D6' or label_data3[i][0]=='D1' or label_data3[i][0]=='D9' or label_data3[i][0]=='D3'):\n",
    "        valence_label_map.append(0) ## Unpleasant\n",
    "    elif(label_data3[i][0]=='D8' or label_data3[i][0]=='D4'):\n",
    "        valence_label_map.append(1) ## Neutral valence\n",
    "    elif(label_data3[i][0]=='D2' or label_data3[i][0]=='D5'):\n",
    "        valence_label_map.append(2)  ## pleasant"
   ]
  },
  {
   "cell_type": "code",
   "execution_count": 122,
   "metadata": {},
   "outputs": [
    {
     "data": {
      "text/plain": [
       "[0, 1, 2, 2, 1, 0, 2, 2, 0, 2, 1, 0, 0, 0, 2, 0, 1, 2, 1, 2]"
      ]
     },
     "execution_count": 122,
     "metadata": {},
     "output_type": "execute_result"
    }
   ],
   "source": [
    "valence_label_map"
   ]
  },
  {
   "cell_type": "code",
   "execution_count": null,
   "metadata": {},
   "outputs": [],
   "source": []
  },
  {
   "cell_type": "code",
   "execution_count": null,
   "metadata": {},
   "outputs": [],
   "source": []
  },
  {
   "cell_type": "markdown",
   "metadata": {},
   "source": [
    "## svm模型训练"
   ]
  },
  {
   "cell_type": "code",
   "execution_count": 131,
   "metadata": {},
   "outputs": [],
   "source": [
    "def norm_feature(feature_data):\n",
    "    max_data = np.max(feature_data)\n",
    "    min_data = np.min(feature_data)\n",
    "    return (feature_data-min_data)/(max_data-min_data)"
   ]
  },
  {
   "cell_type": "code",
   "execution_count": 148,
   "metadata": {},
   "outputs": [],
   "source": [
    "train_data = []\n",
    "for i in np.arange(2,41,2):\n",
    "    path = \"../dataset/hci/\"+str(i)+\"/Part_1_S_Trial\"+str(int(i/2))+\"_emotion.bdf\"\n",
    "    feature_data = get_eeg_feature(path)\n",
    "#     norm_feature_data = norm_feature(feature_data)\n",
    "#     train_data.append(norm_feature_data)\n",
    "    train_data.append(feature_data)"
   ]
  },
  {
   "cell_type": "code",
   "execution_count": 149,
   "metadata": {},
   "outputs": [
    {
     "data": {
      "text/plain": [
       "(20, 216)"
      ]
     },
     "execution_count": 149,
     "metadata": {},
     "output_type": "execute_result"
    }
   ],
   "source": [
    "np.asarray(train_data).shape"
   ]
  },
  {
   "cell_type": "code",
   "execution_count": 150,
   "metadata": {},
   "outputs": [
    {
     "data": {
      "text/plain": [
       "(20,)"
      ]
     },
     "execution_count": 150,
     "metadata": {},
     "output_type": "execute_result"
    }
   ],
   "source": [
    "np.asarray(arousal_label_map).shape"
   ]
  },
  {
   "cell_type": "code",
   "execution_count": 151,
   "metadata": {},
   "outputs": [],
   "source": [
    "final_data = np.asarray(train_data)"
   ]
  },
  {
   "cell_type": "code",
   "execution_count": 152,
   "metadata": {},
   "outputs": [],
   "source": [
    "final_arousal_label = np.asarray(arousal_label_map)"
   ]
  },
  {
   "cell_type": "code",
   "execution_count": 153,
   "metadata": {},
   "outputs": [],
   "source": [
    "final_valence_label = np.asarray(valence_label_map)"
   ]
  },
  {
   "cell_type": "code",
   "execution_count": null,
   "metadata": {},
   "outputs": [],
   "source": []
  },
  {
   "cell_type": "code",
   "execution_count": 154,
   "metadata": {},
   "outputs": [],
   "source": [
    "from sklearn.model_selection import KFold\n",
    "from sklearn import svm"
   ]
  },
  {
   "cell_type": "code",
   "execution_count": 155,
   "metadata": {},
   "outputs": [],
   "source": [
    "kf = KFold(n_splits=20)"
   ]
  },
  {
   "cell_type": "code",
   "execution_count": 156,
   "metadata": {},
   "outputs": [
    {
     "name": "stdout",
     "output_type": "stream",
     "text": [
      "0.0\n",
      "0.0\n",
      "1.0\n",
      "1.0\n",
      "0.0\n",
      "0.0\n",
      "1.0\n",
      "1.0\n",
      "0.0\n",
      "1.0\n",
      "0.0\n",
      "0.0\n",
      "0.0\n",
      "0.0\n",
      "1.0\n",
      "0.0\n",
      "0.0\n",
      "1.0\n",
      "0.0\n",
      "1.0\n",
      "0.4\n"
     ]
    }
   ],
   "source": [
    "pred_right = 0\n",
    "for train_index, test_index in kf.split(final_data):\n",
    "    X_train, X_test = final_data[train_index], final_data[test_index]\n",
    "    Y_train, Y_test = final_arousal_label[train_index], final_arousal_label[test_index]\n",
    "    clf = svm.SVC()\n",
    "    clf.fit(X_train, Y_train)\n",
    "    pred = clf.predict(X_test)\n",
    "    acc = sum(pred == Y_test) / len(pred);\n",
    "    pred_right += acc\n",
    "    print(acc)\n",
    "print(pred_right/20)"
   ]
  },
  {
   "cell_type": "code",
   "execution_count": 157,
   "metadata": {},
   "outputs": [
    {
     "name": "stdout",
     "output_type": "stream",
     "text": [
      "0.0\n",
      "0.0\n",
      "1.0\n",
      "1.0\n",
      "0.0\n",
      "0.0\n",
      "1.0\n",
      "1.0\n",
      "0.0\n",
      "1.0\n",
      "0.0\n",
      "0.0\n",
      "0.0\n",
      "0.0\n",
      "1.0\n",
      "0.0\n",
      "0.0\n",
      "1.0\n",
      "0.0\n",
      "1.0\n",
      "0.4\n"
     ]
    }
   ],
   "source": [
    "pred_right = 0\n",
    "for train_index, test_index in kf.split(final_data):\n",
    "    X_train, X_test = final_data[train_index], final_data[test_index]\n",
    "    Y_train, Y_test = final_valence_label[train_index], final_valence_label[test_index]\n",
    "    clf = svm.SVC()\n",
    "    clf.fit(X_train, Y_train)\n",
    "    pred = clf.predict(X_test)\n",
    "    acc = sum(pred == Y_test) / len(pred);\n",
    "    pred_right += acc\n",
    "    print(acc)\n",
    "print(pred_right/20)"
   ]
  },
  {
   "cell_type": "code",
   "execution_count": null,
   "metadata": {},
   "outputs": [],
   "source": []
  },
  {
   "cell_type": "code",
   "execution_count": null,
   "metadata": {},
   "outputs": [],
   "source": []
  }
 ],
 "metadata": {
  "kernelspec": {
   "display_name": "Python [conda env:pytorch_gpu]",
   "language": "python",
   "name": "conda-env-pytorch_gpu-py"
  },
  "language_info": {
   "codemirror_mode": {
    "name": "ipython",
    "version": 3
   },
   "file_extension": ".py",
   "mimetype": "text/x-python",
   "name": "python",
   "nbconvert_exporter": "python",
   "pygments_lexer": "ipython3",
   "version": "3.6.12"
  }
 },
 "nbformat": 4,
 "nbformat_minor": 4
}
