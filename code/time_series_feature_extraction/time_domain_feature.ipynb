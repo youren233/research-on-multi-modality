{
 "cells": [
  {
   "cell_type": "code",
   "execution_count": 35,
   "metadata": {},
   "outputs": [],
   "source": [
    "import pkt\n",
    "import numpy as np\n",
    "import math\n",
    "\n",
    "from scipy.signal import welch"
   ]
  },
  {
   "cell_type": "markdown",
   "metadata": {},
   "source": [
    "![r1](r1.jpg)"
   ]
  },
  {
   "cell_type": "code",
   "execution_count": 36,
   "metadata": {},
   "outputs": [],
   "source": [
    "random_data = np.random.rand(120,250*8,8)"
   ]
  },
  {
   "cell_type": "code",
   "execution_count": 37,
   "metadata": {},
   "outputs": [],
   "source": [
    "random_one_trail = random_data[np.random.randint(120)]"
   ]
  },
  {
   "cell_type": "code",
   "execution_count": 38,
   "metadata": {},
   "outputs": [
    {
     "data": {
      "text/plain": [
       "(2000, 8)"
      ]
     },
     "execution_count": 38,
     "metadata": {},
     "output_type": "execute_result"
    }
   ],
   "source": [
    "random_one_trail.shape"
   ]
  },
  {
   "cell_type": "code",
   "execution_count": 39,
   "metadata": {},
   "outputs": [],
   "source": [
    "random_one_channel = random_one_trail[:,0]"
   ]
  },
  {
   "cell_type": "code",
   "execution_count": 40,
   "metadata": {},
   "outputs": [
    {
     "data": {
      "text/plain": [
       "(2000,)"
      ]
     },
     "execution_count": 40,
     "metadata": {},
     "output_type": "execute_result"
    }
   ],
   "source": [
    "random_one_channel.shape"
   ]
  },
  {
   "cell_type": "markdown",
   "metadata": {},
   "source": [
    "## 信号统计量"
   ]
  },
  {
   "cell_type": "markdown",
   "metadata": {},
   "source": [
    "### 平均值 µs"
   ]
  },
  {
   "cell_type": "code",
   "execution_count": 41,
   "metadata": {},
   "outputs": [
    {
     "data": {
      "text/plain": [
       "array([0.51176763, 0.50259894, 0.50156883, 0.50457467, 0.4971679 ,\n",
       "       0.49324753, 0.4898429 , 0.50156932])"
      ]
     },
     "execution_count": 41,
     "metadata": {},
     "output_type": "execute_result"
    }
   ],
   "source": [
    "np.average(random_one_trail,axis=0)"
   ]
  },
  {
   "cell_type": "code",
   "execution_count": 42,
   "metadata": {},
   "outputs": [
    {
     "data": {
      "text/plain": [
       "0.5117676286688916"
      ]
     },
     "execution_count": 42,
     "metadata": {},
     "output_type": "execute_result"
    }
   ],
   "source": [
    "np.average(random_one_channel,axis=0)"
   ]
  },
  {
   "cell_type": "code",
   "execution_count": 91,
   "metadata": {},
   "outputs": [],
   "source": [
    "def get_avg(data):\n",
    "    return np.average(data,axis=0)"
   ]
  },
  {
   "cell_type": "markdown",
   "metadata": {},
   "source": [
    "### 标准差"
   ]
  },
  {
   "cell_type": "code",
   "execution_count": 43,
   "metadata": {},
   "outputs": [
    {
     "data": {
      "text/plain": [
       "array([0.29181719, 0.28955467, 0.28337244, 0.28839623, 0.28956764,\n",
       "       0.28980272, 0.28448178, 0.2852392 ])"
      ]
     },
     "execution_count": 43,
     "metadata": {},
     "output_type": "execute_result"
    }
   ],
   "source": [
    "np.std(random_one_trail,axis=0)"
   ]
  },
  {
   "cell_type": "code",
   "execution_count": 44,
   "metadata": {},
   "outputs": [
    {
     "data": {
      "text/plain": [
       "0.29181719208924284"
      ]
     },
     "execution_count": 44,
     "metadata": {},
     "output_type": "execute_result"
    }
   ],
   "source": [
    "np.std(random_one_channel,axis=0)"
   ]
  },
  {
   "cell_type": "code",
   "execution_count": 92,
   "metadata": {},
   "outputs": [],
   "source": [
    "def get_std(data):\n",
    "    return np.std(data,axis=0)"
   ]
  },
  {
   "cell_type": "markdown",
   "metadata": {},
   "source": [
    "### 一阶差分绝对值的平均值"
   ]
  },
  {
   "cell_type": "code",
   "execution_count": 45,
   "metadata": {},
   "outputs": [],
   "source": [
    "N = len(random_one_trail)"
   ]
  },
  {
   "cell_type": "code",
   "execution_count": 51,
   "metadata": {},
   "outputs": [],
   "source": [
    "tmp = 0\n",
    "for i in np.arange(N-1):\n",
    "    tmp += np.abs(random_one_trail[i+1]-random_one_trail[i])\n",
    "res = tmp/N"
   ]
  },
  {
   "cell_type": "code",
   "execution_count": 47,
   "metadata": {},
   "outputs": [
    {
     "data": {
      "text/plain": [
       "array([0.33698485, 0.32690359, 0.33058027, 0.32917191, 0.34049286,\n",
       "       0.33604494, 0.33460628, 0.32939444])"
      ]
     },
     "execution_count": 47,
     "metadata": {},
     "output_type": "execute_result"
    }
   ],
   "source": [
    "res"
   ]
  },
  {
   "cell_type": "code",
   "execution_count": 48,
   "metadata": {},
   "outputs": [],
   "source": [
    "N = len(random_one_channel)"
   ]
  },
  {
   "cell_type": "code",
   "execution_count": 52,
   "metadata": {},
   "outputs": [],
   "source": [
    "tmp = 0\n",
    "for i in np.arange(N-1):\n",
    "    tmp += np.abs(random_one_channel[i+1]-random_one_channel[i])\n",
    "res = tmp/N"
   ]
  },
  {
   "cell_type": "code",
   "execution_count": 53,
   "metadata": {},
   "outputs": [
    {
     "data": {
      "text/plain": [
       "0.33683391912918464"
      ]
     },
     "execution_count": 53,
     "metadata": {},
     "output_type": "execute_result"
    }
   ],
   "source": [
    "res"
   ]
  },
  {
   "cell_type": "code",
   "execution_count": 63,
   "metadata": {},
   "outputs": [],
   "source": [
    "def first_order_difference(data):\n",
    "    N = len(data)\n",
    "    tmp = 0\n",
    "    for i in np.arange(N-1):\n",
    "        tmp += np.abs(data[i+1]-data[i])\n",
    "    res = tmp/N\n",
    "    return res"
   ]
  },
  {
   "cell_type": "markdown",
   "metadata": {},
   "source": [
    "### 二阶差分绝对值的平均值"
   ]
  },
  {
   "cell_type": "code",
   "execution_count": 54,
   "metadata": {},
   "outputs": [],
   "source": [
    "N = len(random_one_trail)"
   ]
  },
  {
   "cell_type": "code",
   "execution_count": 55,
   "metadata": {},
   "outputs": [],
   "source": [
    "tmp = 0\n",
    "for i in np.arange(N-2):\n",
    "    tmp += np.abs(random_one_trail[i+2]-random_one_trail[i])\n",
    "res = tmp/(N-1)"
   ]
  },
  {
   "cell_type": "code",
   "execution_count": 56,
   "metadata": {},
   "outputs": [
    {
     "data": {
      "text/plain": [
       "array([0.33593448, 0.33622835, 0.32787902, 0.33796906, 0.33939487,\n",
       "       0.33102843, 0.33268641, 0.33039125])"
      ]
     },
     "execution_count": 56,
     "metadata": {},
     "output_type": "execute_result"
    }
   ],
   "source": [
    "res"
   ]
  },
  {
   "cell_type": "code",
   "execution_count": 57,
   "metadata": {},
   "outputs": [],
   "source": [
    "N = len(random_one_channel)"
   ]
  },
  {
   "cell_type": "code",
   "execution_count": 58,
   "metadata": {},
   "outputs": [],
   "source": [
    "tmp = 0\n",
    "for i in np.arange(N-2):\n",
    "    tmp += np.abs(random_one_channel[i+2]-random_one_channel[i])\n",
    "res = tmp/(N-1)"
   ]
  },
  {
   "cell_type": "code",
   "execution_count": 59,
   "metadata": {},
   "outputs": [
    {
     "data": {
      "text/plain": [
       "0.3359344767753872"
      ]
     },
     "execution_count": 59,
     "metadata": {},
     "output_type": "execute_result"
    }
   ],
   "source": [
    "res"
   ]
  },
  {
   "cell_type": "code",
   "execution_count": 62,
   "metadata": {},
   "outputs": [],
   "source": [
    "def second_order_difference(data):\n",
    "    N = len(data)\n",
    "    tmp = 0\n",
    "    for i in np.arange(N-2):\n",
    "        tmp += np.abs(data[i+2]-data[i])\n",
    "    res = tmp/(N-1)\n",
    "    return res"
   ]
  },
  {
   "cell_type": "markdown",
   "metadata": {},
   "source": [
    "### 归一化的一阶差分"
   ]
  },
  {
   "cell_type": "code",
   "execution_count": 77,
   "metadata": {},
   "outputs": [
    {
     "data": {
      "text/plain": [
       "array([1.15426345, 1.12892598, 1.16674751, 1.14227751, 1.17572982,\n",
       "       1.15992521, 1.17585665, 1.1550595 ])"
      ]
     },
     "execution_count": 77,
     "metadata": {},
     "output_type": "execute_result"
    }
   ],
   "source": [
    "first_order_difference(random_one_trail)/np.std(random_one_trail,axis=0)"
   ]
  },
  {
   "cell_type": "code",
   "execution_count": 78,
   "metadata": {},
   "outputs": [
    {
     "data": {
      "text/plain": [
       "1.1542634507502727"
      ]
     },
     "execution_count": 78,
     "metadata": {},
     "output_type": "execute_result"
    }
   ],
   "source": [
    "first_order_difference(random_one_channel)/np.std(random_one_channel)"
   ]
  },
  {
   "cell_type": "markdown",
   "metadata": {},
   "source": [
    "### 归一化的二阶差分"
   ]
  },
  {
   "cell_type": "code",
   "execution_count": 81,
   "metadata": {},
   "outputs": [
    {
     "data": {
      "text/plain": [
       "array([1.15118124, 1.16119125, 1.15706036, 1.17189141, 1.17207457,\n",
       "       1.14225439, 1.16944719, 1.15829538])"
      ]
     },
     "execution_count": 81,
     "metadata": {},
     "output_type": "execute_result"
    }
   ],
   "source": [
    "second_order_difference(random_one_trail)/np.std(random_one_trail,axis=0)"
   ]
  },
  {
   "cell_type": "code",
   "execution_count": 83,
   "metadata": {},
   "outputs": [
    {
     "data": {
      "text/plain": [
       "1.1511812390842706"
      ]
     },
     "execution_count": 83,
     "metadata": {},
     "output_type": "execute_result"
    }
   ],
   "source": [
    "second_order_difference(random_one_channel)/np.std(random_one_channel)"
   ]
  },
  {
   "cell_type": "markdown",
   "metadata": {},
   "source": [
    "## 能量"
   ]
  },
  {
   "cell_type": "code",
   "execution_count": 97,
   "metadata": {},
   "outputs": [],
   "source": [
    "N = len(random_one_trail)"
   ]
  },
  {
   "cell_type": "code",
   "execution_count": 98,
   "metadata": {},
   "outputs": [],
   "source": [
    "tmp = 0\n",
    "for i in np.arange(N):\n",
    "    tmp += (random_one_trail[i])*(random_one_trail[i])"
   ]
  },
  {
   "cell_type": "code",
   "execution_count": 99,
   "metadata": {},
   "outputs": [
    {
     "data": {
      "text/plain": [
       "array([694.1267587 , 672.8952067 , 663.74246029, 675.53596813,\n",
       "       662.05068448, 654.5574885 , 641.75188705, 665.86635953])"
      ]
     },
     "execution_count": 99,
     "metadata": {},
     "output_type": "execute_result"
    }
   ],
   "source": [
    "tmp"
   ]
  },
  {
   "cell_type": "code",
   "execution_count": 87,
   "metadata": {},
   "outputs": [],
   "source": [
    "N = len(random_one_channel)"
   ]
  },
  {
   "cell_type": "code",
   "execution_count": 88,
   "metadata": {},
   "outputs": [],
   "source": [
    "tmp = 0\n",
    "for i in np.arange(N):\n",
    "    tmp += (random_one_channel[i])*(random_one_channel[i])"
   ]
  },
  {
   "cell_type": "code",
   "execution_count": 89,
   "metadata": {},
   "outputs": [
    {
     "data": {
      "text/plain": [
       "694.1267587044597"
      ]
     },
     "execution_count": 89,
     "metadata": {},
     "output_type": "execute_result"
    }
   ],
   "source": [
    "tmp"
   ]
  },
  {
   "cell_type": "code",
   "execution_count": 102,
   "metadata": {},
   "outputs": [],
   "source": [
    "def get_engery(data):\n",
    "    N = len(data)\n",
    "    tmp = 0\n",
    "    for i in np.arange(N):\n",
    "        tmp += (data[i])*(data[i])\n",
    "    return tmp"
   ]
  },
  {
   "cell_type": "markdown",
   "metadata": {},
   "source": [
    "## 功率"
   ]
  },
  {
   "cell_type": "code",
   "execution_count": 103,
   "metadata": {},
   "outputs": [
    {
     "data": {
      "text/plain": [
       "array([0.34706338, 0.3364476 , 0.33187123, 0.33776798, 0.33102534,\n",
       "       0.32727874, 0.32087594, 0.33293318])"
      ]
     },
     "execution_count": 103,
     "metadata": {},
     "output_type": "execute_result"
    }
   ],
   "source": [
    "get_engery(random_one_trail)/len(random_one_trail)"
   ]
  },
  {
   "cell_type": "code",
   "execution_count": 104,
   "metadata": {},
   "outputs": [
    {
     "data": {
      "text/plain": [
       "0.34706337935222986"
      ]
     },
     "execution_count": 104,
     "metadata": {},
     "output_type": "execute_result"
    }
   ],
   "source": [
    "get_engery(random_one_channel)/len(random_one_channel)"
   ]
  },
  {
   "cell_type": "markdown",
   "metadata": {},
   "source": [
    "## Hjorth 参数特征"
   ]
  },
  {
   "cell_type": "markdown",
   "metadata": {},
   "source": [
    "### Activity"
   ]
  },
  {
   "cell_type": "code",
   "execution_count": 105,
   "metadata": {},
   "outputs": [],
   "source": [
    "N = len(random_one_trail)"
   ]
  },
  {
   "cell_type": "code",
   "execution_count": 106,
   "metadata": {},
   "outputs": [],
   "source": [
    "tmp = 0\n",
    "avg_s = get_avg(random_one_trail)\n",
    "for i in np.arange(N):\n",
    "    tmp += ((random_one_trail[i])-avg_s)*((random_one_trail[i])-avg_s)\n",
    "res = tmp/N"
   ]
  },
  {
   "cell_type": "code",
   "execution_count": 107,
   "metadata": {},
   "outputs": [
    {
     "data": {
      "text/plain": [
       "array([0.08515727, 0.08384191, 0.08029994, 0.08317238, 0.08384942,\n",
       "       0.08398561, 0.08092988, 0.0813614 ])"
      ]
     },
     "execution_count": 107,
     "metadata": {},
     "output_type": "execute_result"
    }
   ],
   "source": [
    "res"
   ]
  },
  {
   "cell_type": "code",
   "execution_count": 108,
   "metadata": {},
   "outputs": [],
   "source": [
    "N = len(random_one_channel)"
   ]
  },
  {
   "cell_type": "code",
   "execution_count": 109,
   "metadata": {},
   "outputs": [],
   "source": [
    "tmp = 0\n",
    "avg_s = get_avg(random_one_channel)\n",
    "for i in np.arange(N):\n",
    "    tmp += ((random_one_channel[i])-avg_s)*((random_one_channel[i])-avg_s)\n",
    "res = tmp/N"
   ]
  },
  {
   "cell_type": "code",
   "execution_count": 110,
   "metadata": {},
   "outputs": [
    {
     "data": {
      "text/plain": [
       "0.08515727359885009"
      ]
     },
     "execution_count": 110,
     "metadata": {},
     "output_type": "execute_result"
    }
   ],
   "source": [
    "res"
   ]
  },
  {
   "cell_type": "code",
   "execution_count": 111,
   "metadata": {},
   "outputs": [],
   "source": [
    "def get_hjorth_activity(data):\n",
    "    N = len(data)\n",
    "    tmp = 0\n",
    "    avg_s = get_avg(data)\n",
    "    for i in np.arange(N):\n",
    "        tmp += ((data[i])-avg_s)*((data[i])-avg_s)\n",
    "    res = tmp/N\n",
    "    return res"
   ]
  },
  {
   "cell_type": "markdown",
   "metadata": {},
   "source": [
    "### Mobility & Complexity"
   ]
  },
  {
   "cell_type": "markdown",
   "metadata": {},
   "source": [
    "### reference: https://github.com/forrestbao/pyeeg/blob/master/pyeeg/hjorth_mobility_complexity.py"
   ]
  },
  {
   "cell_type": "code",
   "execution_count": 119,
   "metadata": {},
   "outputs": [],
   "source": [
    "D = np.diff(random_one_trail,axis=0)"
   ]
  },
  {
   "cell_type": "code",
   "execution_count": 127,
   "metadata": {},
   "outputs": [],
   "source": [
    "D = np.insert(D,0,0,axis=0)"
   ]
  },
  {
   "cell_type": "code",
   "execution_count": 128,
   "metadata": {},
   "outputs": [
    {
     "data": {
      "text/plain": [
       "(2000, 8)"
      ]
     },
     "execution_count": 128,
     "metadata": {},
     "output_type": "execute_result"
    }
   ],
   "source": [
    "D.shape"
   ]
  },
  {
   "cell_type": "code",
   "execution_count": 129,
   "metadata": {},
   "outputs": [],
   "source": [
    "N = len(random_one_trail)"
   ]
  },
  {
   "cell_type": "code",
   "execution_count": 134,
   "metadata": {},
   "outputs": [
    {
     "data": {
      "text/plain": [
       "array([0.17027464, 0.16266131, 0.16032849, 0.16275271, 0.17226434,\n",
       "       0.16977231, 0.16565483, 0.16306328])"
      ]
     },
     "execution_count": 134,
     "metadata": {},
     "output_type": "execute_result"
    }
   ],
   "source": [
    "np.sum(D ** 2, axis=0)/N"
   ]
  },
  {
   "cell_type": "code",
   "execution_count": 138,
   "metadata": {},
   "outputs": [],
   "source": [
    "M2 = np.sum(D ** 2, axis = 0) / N\n",
    "TP = np.sum(random_one_trail ** 2, axis = 0)\n",
    "M4 = 0\n",
    "for i in range(N-1):\n",
    "    M4 += (D[i+1] - D[i]) ** 2\n",
    "M4 = M4 / N"
   ]
  },
  {
   "cell_type": "code",
   "execution_count": 144,
   "metadata": {},
   "outputs": [],
   "source": [
    "mobility = np.sqrt(M2 / TP)"
   ]
  },
  {
   "cell_type": "code",
   "execution_count": 145,
   "metadata": {},
   "outputs": [
    {
     "data": {
      "text/plain": [
       "array([0.0156623 , 0.01554778, 0.01554195, 0.01552172, 0.01613066,\n",
       "       0.01610496, 0.0160664 , 0.01564893])"
      ]
     },
     "execution_count": 145,
     "metadata": {},
     "output_type": "execute_result"
    }
   ],
   "source": [
    "mobility"
   ]
  },
  {
   "cell_type": "code",
   "execution_count": 146,
   "metadata": {},
   "outputs": [],
   "source": [
    "complexity = np.sqrt(M4 * TP / M2 / M2)"
   ]
  },
  {
   "cell_type": "code",
   "execution_count": 147,
   "metadata": {},
   "outputs": [
    {
     "data": {
      "text/plain": [
       "array([110.8059677 , 110.70239979, 111.29499241, 110.60606792,\n",
       "       107.42443959, 108.05592492, 107.99569284, 110.5716442 ])"
      ]
     },
     "execution_count": 147,
     "metadata": {},
     "output_type": "execute_result"
    }
   ],
   "source": [
    "complexity"
   ]
  },
  {
   "cell_type": "markdown",
   "metadata": {},
   "source": [
    "## 高阶过零分析(HOC)"
   ]
  },
  {
   "cell_type": "markdown",
   "metadata": {},
   "source": [
    "### reference: https://github.com/ADI10HERO/pyHOC/blob/master/applied_maths/pyhoc.py"
   ]
  },
  {
   "cell_type": "code",
   "execution_count": 150,
   "metadata": {},
   "outputs": [],
   "source": [
    "nzc = []\n",
    "for i in range(10):\n",
    "    curr_diff = np.diff(random_one_channel, n=i)\n",
    "\n",
    "    x_t = curr_diff >= 0   # binary time series signal\n",
    "    x_t = numpy.diff(x_t)  # taking diff of x_t\n",
    "    x_t = numpy.abs(x_t)   # taking abs value\n",
    "\n",
    "    count = np.count_nonzero(x_t)\n",
    "    nzc.append(count)"
   ]
  },
  {
   "cell_type": "code",
   "execution_count": 151,
   "metadata": {},
   "outputs": [
    {
     "data": {
      "text/plain": [
       "[0, 1340, 1452, 1529, 1578, 1615, 1632, 1661, 1678, 1702]"
      ]
     },
     "execution_count": 151,
     "metadata": {},
     "output_type": "execute_result"
    }
   ],
   "source": [
    "nzc"
   ]
  },
  {
   "cell_type": "code",
   "execution_count": null,
   "metadata": {},
   "outputs": [],
   "source": []
  },
  {
   "cell_type": "code",
   "execution_count": null,
   "metadata": {},
   "outputs": [],
   "source": []
  },
  {
   "cell_type": "markdown",
   "metadata": {},
   "source": [
    "## 整理"
   ]
  },
  {
   "cell_type": "markdown",
   "metadata": {},
   "source": [
    "### 导包"
   ]
  },
  {
   "cell_type": "code",
   "execution_count": 4,
   "metadata": {},
   "outputs": [],
   "source": [
    "import numpy as np\n",
    "import math\n",
    "\n",
    "from scipy.signal import welch"
   ]
  },
  {
   "cell_type": "markdown",
   "metadata": {},
   "source": [
    "### 随机生成数据模拟脑电信号"
   ]
  },
  {
   "cell_type": "code",
   "execution_count": 6,
   "metadata": {},
   "outputs": [],
   "source": [
    "random_data = np.random.rand(120,250*8,8)  ## 120个trail，每个trail 250*8个采样点， 8通道 \n",
    "random_one_trail = random_data[np.random.randint(120)]  ## 从120个trail中随机获取1个"
   ]
  },
  {
   "cell_type": "code",
   "execution_count": 7,
   "metadata": {},
   "outputs": [
    {
     "data": {
      "text/plain": [
       "(2000, 8)"
      ]
     },
     "execution_count": 7,
     "metadata": {},
     "output_type": "execute_result"
    }
   ],
   "source": [
    "random_one_trail.shape  ## 1个trail数据形状"
   ]
  },
  {
   "cell_type": "code",
   "execution_count": 8,
   "metadata": {},
   "outputs": [],
   "source": [
    "random_one_channel = random_one_trail[:,0]  ## 获取1个trail的第一个通道，0可修改为对应通道下标获取对应通道"
   ]
  },
  {
   "cell_type": "code",
   "execution_count": 9,
   "metadata": {},
   "outputs": [
    {
     "data": {
      "text/plain": [
       "(2000,)"
      ]
     },
     "execution_count": 9,
     "metadata": {},
     "output_type": "execute_result"
    }
   ],
   "source": [
    "random_one_channel.shape  ## 1个通道数据形状"
   ]
  },
  {
   "cell_type": "markdown",
   "metadata": {},
   "source": [
    "### 平均值 µs"
   ]
  },
  {
   "cell_type": "code",
   "execution_count": 10,
   "metadata": {},
   "outputs": [],
   "source": [
    "## data：可以是一个trail数据，也可以是单个通道数据\n",
    "## return: trail/channel的平均值\n",
    "def get_avg(data):\n",
    "    return np.average(data,axis=0)"
   ]
  },
  {
   "cell_type": "markdown",
   "metadata": {},
   "source": [
    "### 标准差"
   ]
  },
  {
   "cell_type": "code",
   "execution_count": 11,
   "metadata": {},
   "outputs": [],
   "source": [
    "## data：可以是一个trail数据，也可以是单个通道数据\n",
    "## return: trail/channel的平均值\n",
    "def get_std(data):\n",
    "    return np.std(data,axis=0)"
   ]
  },
  {
   "cell_type": "markdown",
   "metadata": {},
   "source": [
    "### 一阶差分绝对值的平均值"
   ]
  },
  {
   "cell_type": "code",
   "execution_count": 12,
   "metadata": {},
   "outputs": [],
   "source": [
    "## data：可以是一个trail数据，也可以是单个通道数据\n",
    "## return: trail/channel一阶差分绝对值的平均值\n",
    "def first_order_difference(data):\n",
    "    N = len(data)\n",
    "    tmp = 0\n",
    "    for i in np.arange(N-1):\n",
    "        tmp += np.abs(data[i+1]-data[i])\n",
    "    res = tmp/N\n",
    "    return res"
   ]
  },
  {
   "cell_type": "code",
   "execution_count": 15,
   "metadata": {},
   "outputs": [
    {
     "data": {
      "text/plain": [
       "array([0.32576676, 0.32390288, 0.34379096, 0.33488424, 0.34047781,\n",
       "       0.33780907, 0.32897112, 0.33134233])"
      ]
     },
     "execution_count": 15,
     "metadata": {},
     "output_type": "execute_result"
    }
   ],
   "source": [
    "first_order_difference(random_one_trail)"
   ]
  },
  {
   "cell_type": "code",
   "execution_count": 16,
   "metadata": {},
   "outputs": [
    {
     "data": {
      "text/plain": [
       "0.3257667567897728"
      ]
     },
     "execution_count": 16,
     "metadata": {},
     "output_type": "execute_result"
    }
   ],
   "source": [
    "first_order_difference(random_one_channel)"
   ]
  },
  {
   "cell_type": "markdown",
   "metadata": {},
   "source": [
    "### 二阶差分绝对值的平均值"
   ]
  },
  {
   "cell_type": "code",
   "execution_count": 17,
   "metadata": {},
   "outputs": [],
   "source": [
    "## data：可以是一个trail数据，也可以是单个通道数据\n",
    "## return: trail/channel二阶差分绝对值的平均值\n",
    "def second_order_difference(data):\n",
    "    N = len(data)\n",
    "    tmp = 0\n",
    "    for i in np.arange(N-2):\n",
    "        tmp += np.abs(data[i+2]-data[i])\n",
    "    res = tmp/(N-1)\n",
    "    return res"
   ]
  },
  {
   "cell_type": "code",
   "execution_count": 18,
   "metadata": {},
   "outputs": [
    {
     "data": {
      "text/plain": [
       "array([0.32574512, 0.3302874 , 0.33769602, 0.33676851, 0.33576959,\n",
       "       0.33021852, 0.32914042, 0.32303282])"
      ]
     },
     "execution_count": 18,
     "metadata": {},
     "output_type": "execute_result"
    }
   ],
   "source": [
    "second_order_difference(random_one_trail)"
   ]
  },
  {
   "cell_type": "code",
   "execution_count": 19,
   "metadata": {},
   "outputs": [
    {
     "data": {
      "text/plain": [
       "0.32574511611436685"
      ]
     },
     "execution_count": 19,
     "metadata": {},
     "output_type": "execute_result"
    }
   ],
   "source": [
    "second_order_difference(random_one_channel)"
   ]
  },
  {
   "cell_type": "markdown",
   "metadata": {},
   "source": [
    "### 归一化的一阶差分"
   ]
  },
  {
   "cell_type": "code",
   "execution_count": 29,
   "metadata": {},
   "outputs": [],
   "source": [
    "## data：可以是一个trail数据，也可以是单个通道数据\n",
    "## return: trail/channel归一化的一阶差分\n",
    "## 使用该函数时保证前面有求一阶差分绝对值的平均值函数即first_order_difference函数存在\n",
    "def norm_first_order_difference(data):\n",
    "    return first_order_difference(data)/np.std(data,axis=0)"
   ]
  },
  {
   "cell_type": "code",
   "execution_count": 30,
   "metadata": {},
   "outputs": [
    {
     "data": {
      "text/plain": [
       "array([1.15876184, 1.13072331, 1.16898225, 1.15850677, 1.15355936,\n",
       "       1.16461315, 1.15303493, 1.14955205])"
      ]
     },
     "execution_count": 30,
     "metadata": {},
     "output_type": "execute_result"
    }
   ],
   "source": [
    "norm_first_order_difference(random_one_trail)"
   ]
  },
  {
   "cell_type": "code",
   "execution_count": 31,
   "metadata": {},
   "outputs": [
    {
     "data": {
      "text/plain": [
       "1.1587618388281546"
      ]
     },
     "execution_count": 31,
     "metadata": {},
     "output_type": "execute_result"
    }
   ],
   "source": [
    "norm_first_order_difference(random_one_channel)"
   ]
  },
  {
   "cell_type": "markdown",
   "metadata": {},
   "source": [
    "### 归一化的二阶差分"
   ]
  },
  {
   "cell_type": "code",
   "execution_count": 32,
   "metadata": {},
   "outputs": [],
   "source": [
    "## data：可以是一个trail数据，也可以是单个通道数据\n",
    "## return: trail/channel归一化的二阶差分\n",
    "## 使用该函数时保证前面有求二阶差分绝对值的平均值函数即second_order_difference函数存在\n",
    "def norm_second_order_difference(data):\n",
    "    return second_order_difference(data)/np.std(data,axis=0)"
   ]
  },
  {
   "cell_type": "code",
   "execution_count": 33,
   "metadata": {},
   "outputs": [
    {
     "data": {
      "text/plain": [
       "array([1.15868486, 1.15301122, 1.1482578 , 1.16502525, 1.13760765,\n",
       "       1.13844436, 1.15362832, 1.12072319])"
      ]
     },
     "execution_count": 33,
     "metadata": {},
     "output_type": "execute_result"
    }
   ],
   "source": [
    "norm_second_order_difference(random_one_trail)"
   ]
  },
  {
   "cell_type": "code",
   "execution_count": 34,
   "metadata": {},
   "outputs": [
    {
     "data": {
      "text/plain": [
       "1.1586848623156525"
      ]
     },
     "execution_count": 34,
     "metadata": {},
     "output_type": "execute_result"
    }
   ],
   "source": [
    "norm_second_order_difference(random_one_channel)"
   ]
  },
  {
   "cell_type": "markdown",
   "metadata": {},
   "source": [
    "### 能量"
   ]
  },
  {
   "cell_type": "code",
   "execution_count": 35,
   "metadata": {},
   "outputs": [],
   "source": [
    "## data：可以是一个trail数据，也可以是单个通道数据\n",
    "## return: trail/channel的能量\n",
    "def get_engery(data):\n",
    "    N = len(data)\n",
    "    tmp = 0\n",
    "    for i in np.arange(N):\n",
    "        tmp += (data[i])*(data[i])\n",
    "    return tmp"
   ]
  },
  {
   "cell_type": "code",
   "execution_count": 36,
   "metadata": {},
   "outputs": [
    {
     "data": {
      "text/plain": [
       "array([666.21726168, 656.68807501, 679.48412969, 664.89253438,\n",
       "       682.27868825, 675.41064515, 687.29730652, 656.53944777])"
      ]
     },
     "execution_count": 36,
     "metadata": {},
     "output_type": "execute_result"
    }
   ],
   "source": [
    "get_engery(random_one_trail)"
   ]
  },
  {
   "cell_type": "code",
   "execution_count": 37,
   "metadata": {},
   "outputs": [
    {
     "data": {
      "text/plain": [
       "666.217261683484"
      ]
     },
     "execution_count": 37,
     "metadata": {},
     "output_type": "execute_result"
    }
   ],
   "source": [
    "get_engery(random_one_channel)"
   ]
  },
  {
   "cell_type": "markdown",
   "metadata": {},
   "source": [
    "### 功率"
   ]
  },
  {
   "cell_type": "code",
   "execution_count": 39,
   "metadata": {},
   "outputs": [],
   "source": [
    "## data：可以是一个trail数据，也可以是单个通道数据\n",
    "## return: trail/channel的功率\n",
    "def get_power(data):\n",
    "    return get_engery(data)/len(data)"
   ]
  },
  {
   "cell_type": "code",
   "execution_count": 40,
   "metadata": {},
   "outputs": [
    {
     "data": {
      "text/plain": [
       "array([0.33310863, 0.32834404, 0.33974206, 0.33244627, 0.34113934,\n",
       "       0.33770532, 0.34364865, 0.32826972])"
      ]
     },
     "execution_count": 40,
     "metadata": {},
     "output_type": "execute_result"
    }
   ],
   "source": [
    "get_power(random_one_trail)"
   ]
  },
  {
   "cell_type": "code",
   "execution_count": 41,
   "metadata": {},
   "outputs": [
    {
     "data": {
      "text/plain": [
       "0.333108630841742"
      ]
     },
     "execution_count": 41,
     "metadata": {},
     "output_type": "execute_result"
    }
   ],
   "source": [
    "get_power(random_one_channel)"
   ]
  },
  {
   "cell_type": "markdown",
   "metadata": {},
   "source": [
    "### Hjorth 参数特征-activity"
   ]
  },
  {
   "cell_type": "code",
   "execution_count": 42,
   "metadata": {},
   "outputs": [],
   "source": [
    "## data：可以是一个trail数据，也可以是单个通道数据\n",
    "## return: trail/channel的Hjorth参数特征-activity\n",
    "def get_hjorth_activity(data):\n",
    "    N = len(data)\n",
    "    tmp = 0\n",
    "    avg_s = get_avg(data)\n",
    "    for i in np.arange(N):\n",
    "        tmp += ((data[i])-avg_s)*((data[i])-avg_s)\n",
    "    res = tmp/N\n",
    "    return res"
   ]
  },
  {
   "cell_type": "code",
   "execution_count": 43,
   "metadata": {},
   "outputs": [
    {
     "data": {
      "text/plain": [
       "array([0.07903604, 0.08205725, 0.08649143, 0.08355882, 0.08711596,\n",
       "       0.08413549, 0.08140116, 0.08308002])"
      ]
     },
     "execution_count": 43,
     "metadata": {},
     "output_type": "execute_result"
    }
   ],
   "source": [
    "get_hjorth_activity(random_one_trail)"
   ]
  },
  {
   "cell_type": "code",
   "execution_count": 44,
   "metadata": {},
   "outputs": [
    {
     "data": {
      "text/plain": [
       "0.07903603772505868"
      ]
     },
     "execution_count": 44,
     "metadata": {},
     "output_type": "execute_result"
    }
   ],
   "source": [
    "get_hjorth_activity(random_one_channel)"
   ]
  },
  {
   "cell_type": "markdown",
   "metadata": {},
   "source": [
    "### Hjorth 参数特征-mobility&complexity"
   ]
  },
  {
   "cell_type": "markdown",
   "metadata": {},
   "source": [
    "#### reference: https://github.com/forrestbao/pyeeg/blob/master/pyeeg/hjorth_mobility_complexity.py"
   ]
  },
  {
   "cell_type": "code",
   "execution_count": 47,
   "metadata": {},
   "outputs": [],
   "source": [
    "## data：单个trail数据\n",
    "## return: trail的Hjorth参数特征-mobility&complexity\n",
    "def get_hjorth_mobility_complexity(data):\n",
    "    D = np.diff(data,axis=0)\n",
    "    D = np.insert(D,0,0,axis=0)\n",
    "    \n",
    "    N = len(data)\n",
    "    \n",
    "    M2 = np.sum(D ** 2, axis = 0) / N\n",
    "    TP = np.sum(data ** 2, axis = 0)\n",
    "    M4 = 0\n",
    "    for i in range(N-1):\n",
    "        M4 += (D[i+1] - D[i]) ** 2\n",
    "    M4 = M4 / N\n",
    "    \n",
    "    mobility = np.sqrt(M2 / TP)\n",
    "    complexity = np.sqrt(M4 * TP / M2 / M2)\n",
    "    \n",
    "    return mobility, complexity"
   ]
  },
  {
   "cell_type": "code",
   "execution_count": 48,
   "metadata": {},
   "outputs": [],
   "source": [
    "mobility, complexity = get_hjorth_mobility_complexity(random_one_trail)"
   ]
  },
  {
   "cell_type": "code",
   "execution_count": 49,
   "metadata": {},
   "outputs": [
    {
     "data": {
      "text/plain": [
       "array([0.01539158, 0.01558062, 0.01614394, 0.01589435, 0.0159241 ,\n",
       "       0.01586119, 0.01546806, 0.01581843])"
      ]
     },
     "execution_count": 49,
     "metadata": {},
     "output_type": "execute_result"
    }
   ],
   "source": [
    "mobility"
   ]
  },
  {
   "cell_type": "code",
   "execution_count": 50,
   "metadata": {},
   "outputs": [
    {
     "data": {
      "text/plain": [
       "array([112.28903987, 110.78963876, 107.73866467, 108.98774655,\n",
       "       108.93052918, 109.74974476, 112.24990972, 110.22592927])"
      ]
     },
     "execution_count": 50,
     "metadata": {},
     "output_type": "execute_result"
    }
   ],
   "source": [
    "complexity"
   ]
  },
  {
   "cell_type": "markdown",
   "metadata": {},
   "source": [
    "### 高阶过零分析(HOC)\n"
   ]
  },
  {
   "cell_type": "markdown",
   "metadata": {},
   "source": [
    "#### reference: https://github.com/ADI10HERO/pyHOC/blob/master/applied_maths/pyhoc.py"
   ]
  },
  {
   "cell_type": "code",
   "execution_count": 53,
   "metadata": {},
   "outputs": [],
   "source": [
    "## data：单个trail数据\n",
    "## return: trail的高阶过零分析(HOC)统计量\n",
    "def get_hoc(data):\n",
    "    nzc = []\n",
    "    for i in range(10):\n",
    "        curr_diff = np.diff(data, n=i)\n",
    "\n",
    "        x_t = curr_diff >= 0   # binary time series signal\n",
    "        x_t = np.diff(x_t)  # taking diff of x_t\n",
    "        x_t = np.abs(x_t)   # taking abs value\n",
    "\n",
    "        count = np.count_nonzero(x_t)\n",
    "        nzc.append(count)\n",
    "    return nzc"
   ]
  },
  {
   "cell_type": "code",
   "execution_count": 54,
   "metadata": {},
   "outputs": [
    {
     "data": {
      "text/plain": [
       "[0, 8008, 7232, 6166, 4773, 3242, 1660, 0, 0, 0]"
      ]
     },
     "execution_count": 54,
     "metadata": {},
     "output_type": "execute_result"
    }
   ],
   "source": [
    "get_hoc(random_one_trail)"
   ]
  },
  {
   "cell_type": "code",
   "execution_count": null,
   "metadata": {},
   "outputs": [],
   "source": []
  }
 ],
 "metadata": {
  "kernelspec": {
   "display_name": "Python [conda env:pytorch_gpu]",
   "language": "python",
   "name": "conda-env-pytorch_gpu-py"
  },
  "language_info": {
   "codemirror_mode": {
    "name": "ipython",
    "version": 3
   },
   "file_extension": ".py",
   "mimetype": "text/x-python",
   "name": "python",
   "nbconvert_exporter": "python",
   "pygments_lexer": "ipython3",
   "version": "3.6.12"
  }
 },
 "nbformat": 4,
 "nbformat_minor": 4
}
